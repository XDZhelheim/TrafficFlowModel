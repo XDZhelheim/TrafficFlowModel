{
 "cells": [
  {
   "cell_type": "code",
   "execution_count": null,
   "metadata": {},
   "outputs": [],
   "source": [
    "import numpy as np\n",
    "import pandas as pd\n",
    "import os\n",
    "\n",
    "%pwd"
   ]
  },
  {
   "cell_type": "code",
   "execution_count": null,
   "metadata": {},
   "outputs": [],
   "source": [
    "files=os.listdir(\"../data/taxi_after_proc/proc_segment/\")\n",
    "\n",
    "len(files)"
   ]
  },
  {
   "cell_type": "code",
   "execution_count": null,
   "metadata": {},
   "outputs": [],
   "source": [
    "files[:10]"
   ]
  },
  {
   "cell_type": "code",
   "execution_count": null,
   "metadata": {},
   "outputs": [],
   "source": [
    "car_set=set()\n",
    "\n",
    "for file in files:\n",
    "    car=file[7:-4]\n",
    "    car_set.add(car)\n",
    "\n",
    "print(len(car_set))"
   ]
  },
  {
   "cell_type": "code",
   "execution_count": null,
   "metadata": {},
   "outputs": [],
   "source": [
    "df_temp=pd.DataFrame()\n",
    "for i in range(10):\n",
    "    try:\n",
    "        df_temp=df_temp.append(pd.read_csv(\"../data/taxi_after_proc/proc_segment/12-01_{}粤BD03670.csv\".format(i)))\n",
    "    except FileNotFoundError:\n",
    "        print(i)\n",
    "        continue\n",
    "\n",
    "df_temp"
   ]
  },
  {
   "cell_type": "code",
   "execution_count": null,
   "metadata": {},
   "outputs": [],
   "source": [
    "days=[\"01\", \"02\", \"03\", \"04\", \"05\", \"06\", \"07\", \"08\", \"09\", \"10\", \"11\", \"12\"]\n",
    "\n",
    "for car in car_set:\n",
    "    for day in days:\n",
    "        df_all=pd.DataFrame()\n",
    "        for i in range(10):\n",
    "            try:\n",
    "                df_all=df_all.append(pd.read_csv(\"../data/taxi_after_proc/proc_segment/12-{}_{}{}.csv\".format(day, i, car)))\n",
    "            except FileNotFoundError:\n",
    "                continue\n",
    "        df_all.to_csv(\"../data/taxi_after_proc/merged/12-{}_{}.csv\".format(day, car), index=False)"
   ]
  }
 ],
 "metadata": {
  "kernelspec": {
   "display_name": "Python [conda env:dz] *",
   "language": "python",
   "name": "conda-env-dz-py"
  },
  "orig_nbformat": 4
 },
 "nbformat": 4,
 "nbformat_minor": 2
}

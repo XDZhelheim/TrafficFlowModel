{
 "cells": [
  {
   "cell_type": "code",
   "execution_count": null,
   "metadata": {},
   "outputs": [],
   "source": [
    "import numpy as np\n",
    "import pandas as pd\n",
    "import matplotlib.pyplot as plt\n",
    "\n",
    "%pwd"
   ]
  },
  {
   "cell_type": "code",
   "execution_count": null,
   "metadata": {},
   "outputs": [],
   "source": [
    "df_taxi_1202=pd.read_csv(\"../data/taxi/2019-12-02/2019-12-02_0\",\n",
    "                         names=[\"sys_time\", \"license_number\", \"lng\", \"lat\", \"gps_time\", \"EMPTY1\", \"speed\", \"direction\", \"car_status\",\n",
    "                                \"alarm_status\", \"EMPTY2\", \"EMPTY3\", \"license_color\", \"recorder_speed\", \"mileage\", \"height\", \"EMPTY4\"\n",
    "                               ])\n",
    "\n",
    "df_taxi_1202"
   ]
  },
  {
   "cell_type": "code",
   "execution_count": null,
   "metadata": {},
   "outputs": [],
   "source": [
    "df_bus_1202=pd.read_csv(\"../data/bus/STRING_20191202\",\n",
    "                        names=[\"sys_time\", \"data_type\", \"termial_id\", \"license_number\", \"route_id\", \"child_route_id\", \"company\", \"locate_status\", \"lng\", \"lat\", \"height\",\n",
    "                                \"upload_time\", \"speed\", \"direction\", \"recorder_speed\", \"mileage\", \"car_type\", \"flag\"\n",
    "                              ])\n",
    "\n",
    "df_bus_1202.loc[df_bus_1202[\"speed\"]>0]\n",
    "# df_bus_1202.loc[(df_bus_1202[\"license_number\"]==\"BS39921D\") & (df_bus_1202[\"speed\"]!=0)]"
   ]
  },
  {
   "cell_type": "code",
   "execution_count": null,
   "metadata": {},
   "outputs": [],
   "source": [
    "# 地磁测量点分布图，时间间隔，车流分布\n",
    "# 建图\n",
    "# map matching\n",
    "# taxi 数据处理"
   ]
  },
  {
   "cell_type": "code",
   "execution_count": null,
   "metadata": {},
   "outputs": [],
   "source": [
    "cars=df_taxi_1202[\"license_number\"].unique()[:100]"
   ]
  },
  {
   "cell_type": "code",
   "execution_count": null,
   "metadata": {},
   "outputs": [],
   "source": [
    "df_taxi_out=df_taxi_1202.loc[df_taxi_1202[\"license_number\"].isin(cars)].sort_values(\"license_number\")\n",
    "\n",
    "df_taxi_out"
   ]
  },
  {
   "cell_type": "code",
   "execution_count": null,
   "metadata": {},
   "outputs": [],
   "source": [
    "df_taxi_out.to_csv(\"./taxi_sample.csv\")"
   ]
  },
  {
   "cell_type": "code",
   "execution_count": null,
   "metadata": {},
   "outputs": [],
   "source": [
    "df_mag_1202=pd.read_csv(\"../data/geomagnetism/2019-12-02\",\n",
    "                    names=[\"sys_time\", \"data_type\", \"cross_id\", \"packet_id\", \"lane_id\", \"upload_time\", \"speed\", \n",
    "                           \"car_type\", \"car_length\", \"time_headway\", \"distance_between_cars\", \"car_pass_time\"])\n",
    "\n",
    "df_mag_1202"
   ]
  },
  {
   "cell_type": "code",
   "execution_count": null,
   "metadata": {},
   "outputs": [],
   "source": [
    "cross_list=df_mag_1202[\"cross_id\"].unique()[:10]\n",
    "\n",
    "cross_list"
   ]
  },
  {
   "cell_type": "code",
   "execution_count": null,
   "metadata": {},
   "outputs": [],
   "source": [
    "df_mag_out=df_mag_1202.loc[df_mag_1202[\"cross_id\"].isin(cross_list)]\n",
    "\n",
    "df_mag_out"
   ]
  },
  {
   "cell_type": "code",
   "execution_count": null,
   "metadata": {},
   "outputs": [],
   "source": [
    "df_mag_out.to_csv(\"./magnet_sample.csv\")"
   ]
  }
 ],
 "metadata": {
  "interpreter": {
   "hash": "4ce0e62306dd6a5716965d4519ada776f947e6dfc145b604b11307c10277ef29"
  },
  "kernelspec": {
   "display_name": "Python [conda env:dz] *",
   "language": "python",
   "name": "conda-env-dz-py"
  },
  "language_info": {
   "codemirror_mode": {
    "name": "ipython",
    "version": 3
   },
   "file_extension": ".py",
   "mimetype": "text/x-python",
   "name": "python",
   "nbconvert_exporter": "python",
   "pygments_lexer": "ipython3",
   "version": "3.8.5"
  },
  "orig_nbformat": 4
 },
 "nbformat": 4,
 "nbformat_minor": 2
}

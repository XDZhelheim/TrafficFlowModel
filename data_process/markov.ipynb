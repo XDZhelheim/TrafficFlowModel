{
 "cells": [
  {
   "cell_type": "code",
   "execution_count": 2,
   "metadata": {},
   "outputs": [
    {
     "data": {
      "text/plain": [
       "'/home/cseadmin/data/cys/TrafficFlowModel/data_process'"
      ]
     },
     "execution_count": 2,
     "metadata": {},
     "output_type": "execute_result"
    }
   ],
   "source": [
    "import numpy as np\n",
    "import pandas as pd\n",
    "import os\n",
    "import matplotlib.pyplot as plt\n",
    "\n",
    "from IPython.core.interactiveshell import InteractiveShell\n",
    "InteractiveShell.ast_node_interactivity = \"all\"\n",
    "\n",
    "%pwd"
   ]
  },
  {
   "cell_type": "code",
   "execution_count": 3,
   "metadata": {},
   "outputs": [
    {
     "data": {
      "text/plain": [
       "array([[1324, 1984,  520, ...,    0,    0,    0],\n",
       "       [   4,  154,  514, ...,    0,    0,    0],\n",
       "       [  26,  123, 5621, ...,    0,    0,    0],\n",
       "       ...,\n",
       "       [   0,    0,    0, ...,   37,    6,    0],\n",
       "       [   0,    0,    0, ...,   23,   73,    0],\n",
       "       [   0,    0,    0, ...,    0,    0,   23]], dtype=int32)"
      ]
     },
     "execution_count": 3,
     "metadata": {},
     "output_type": "execute_result"
    }
   ],
   "source": [
    "tm=np.load(\"../data/trans_matrix.npy\")\n",
    "\n",
    "tm[0]"
   ]
  },
  {
   "cell_type": "code",
   "execution_count": 4,
   "metadata": {},
   "outputs": [
    {
     "data": {
      "text/plain": [
       "53239"
      ]
     },
     "execution_count": 4,
     "metadata": {},
     "output_type": "execute_result"
    }
   ],
   "source": [
    "np.max(tm[0])"
   ]
  },
  {
   "cell_type": "code",
   "execution_count": 5,
   "metadata": {},
   "outputs": [
    {
     "data": {
      "text/plain": [
       "array([[ 42, 312,  88, ...,   0,   0,   0],\n",
       "       [  3,  16,  79, ...,   0,   0,   0],\n",
       "       [  3,  31, 913, ...,   0,   0,   0],\n",
       "       ...,\n",
       "       [  0,   0,   0, ...,   6,   0,   0],\n",
       "       [  0,   0,   0, ...,   1,  23,   0],\n",
       "       [  0,   0,   0, ...,   0,   0,   5]], dtype=int32)"
      ]
     },
     "execution_count": 5,
     "metadata": {},
     "output_type": "execute_result"
    }
   ],
   "source": [
    "tm_test=np.load(\"../data/trans_matrix_test.npy\")\n",
    "\n",
    "tm_test[0]"
   ]
  },
  {
   "cell_type": "code",
   "execution_count": 6,
   "metadata": {},
   "outputs": [],
   "source": [
    "def rmse(predictions, targets):\n",
    "    return np.sqrt(np.mean((predictions - targets)**2))\n",
    "\n",
    "def mae(y_pred, y_true):\n",
    "    return np.mean(np.abs((y_pred - y_true)))\n",
    "\n",
    "def mape_no0(preds, labels):\n",
    "    mask = labels != 0\n",
    "    return np.fabs((labels[mask] - preds[mask]) / labels[mask]).mean()\n",
    "\n",
    "def smape_no0(y_pred, y_true):\n",
    "    mask = (y_true + y_pred != 0)\n",
    "    return 2.0 * np.mean(np.abs(y_pred[mask] - y_true[mask]) / (np.abs(y_pred[mask]) + np.abs(y_true[mask])))\n",
    "\n",
    "def maedivmean(y_pred, y_true):\n",
    "    return mae(y_pred, y_true)/np.mean(y_true)"
   ]
  },
  {
   "cell_type": "markdown",
   "metadata": {},
   "source": [
    "验证数据\n",
    "\n",
    "---"
   ]
  },
  {
   "cell_type": "code",
   "execution_count": 16,
   "metadata": {},
   "outputs": [
    {
     "data": {
      "text/plain": [
       "array([262.33333333, 100.16666667, 213.83333333, ...,  10.66666667,\n",
       "         8.5       ,  19.16666667])"
      ]
     },
     "execution_count": 16,
     "metadata": {},
     "output_type": "execute_result"
    }
   ],
   "source": [
    "tm[3].sum(axis=0)/6"
   ]
  },
  {
   "cell_type": "code",
   "execution_count": 13,
   "metadata": {},
   "outputs": [
    {
     "data": {
      "text/plain": [
       "array([145, 107, 199, ...,  18,   7,  26])"
      ]
     },
     "execution_count": 13,
     "metadata": {},
     "output_type": "execute_result"
    }
   ],
   "source": [
    "tm_test[4].sum(axis=1)"
   ]
  },
  {
   "cell_type": "code",
   "execution_count": 26,
   "metadata": {},
   "outputs": [
    {
     "data": {
      "text/plain": [
       "39.529009443043684"
      ]
     },
     "execution_count": 26,
     "metadata": {},
     "output_type": "execute_result"
    },
    {
     "data": {
      "text/plain": [
       "11.259569945727314"
      ]
     },
     "execution_count": 26,
     "metadata": {},
     "output_type": "execute_result"
    }
   ],
   "source": [
    "rmse(tm[3].sum(axis=0)/6, tm_test[4].sum(axis=1))\n",
    "mae(tm[3].sum(axis=0)/6, tm_test[4].sum(axis=1))"
   ]
  },
  {
   "cell_type": "code",
   "execution_count": 30,
   "metadata": {},
   "outputs": [
    {
     "data": {
      "text/plain": [
       "29.458676406859407"
      ]
     },
     "execution_count": 30,
     "metadata": {},
     "output_type": "execute_result"
    }
   ],
   "source": [
    "np.mean(tm_test[4].sum(axis=1))"
   ]
  },
  {
   "cell_type": "code",
   "execution_count": 9,
   "metadata": {},
   "outputs": [
    {
     "data": {
      "text/plain": [
       "[1615.6666666666665,\n",
       " 1248.1666666666665,\n",
       " 1138.8333333333333,\n",
       " 811.5,\n",
       " 765.6666666666667,\n",
       " 734.8333333333333,\n",
       " 654.3333333333333,\n",
       " 648.6666666666667,\n",
       " 626.3333333333334,\n",
       " 601.8333333333333]"
      ]
     },
     "execution_count": 9,
     "metadata": {},
     "output_type": "execute_result"
    },
    {
     "data": {
      "text/plain": [
       "array([11184,  7941,  7698,  4717, 12259,  3205,  8060,  2880, 13615,\n",
       "       13274])"
      ]
     },
     "execution_count": 9,
     "metadata": {},
     "output_type": "execute_result"
    }
   ],
   "source": [
    "temp=np.abs(tm[3].sum(axis=0)/6 - tm_test[4].sum(axis=1))\n",
    "sorted(temp, reverse=True)[:10]\n",
    "np.argsort(-temp)[:10]"
   ]
  },
  {
   "cell_type": "code",
   "execution_count": 20,
   "metadata": {},
   "outputs": [
    {
     "data": {
      "text/plain": [
       "[<matplotlib.lines.Line2D at 0x7fe7700dce20>]"
      ]
     },
     "execution_count": 20,
     "metadata": {},
     "output_type": "execute_result"
    },
    {
     "data": {
      "image/png": "[encoded data removed]",
      "text/plain": [
       "<Figure size 432x288 with 1 Axes>"
      ]
     },
     "metadata": {
      "needs_background": "light"
     },
     "output_type": "display_data"
    }
   ],
   "source": [
    "plt.plot(range(len(temp)), sorted(temp, reverse=True), \"-\")\n",
    "plt.show()"
   ]
  },
  {
   "cell_type": "markdown",
   "metadata": {},
   "source": [
    "ID = 11384 哪个位置占了这么多"
   ]
  },
  {
   "cell_type": "code",
   "execution_count": 19,
   "metadata": {},
   "outputs": [
    {
     "data": {
      "text/plain": [
       "[6234, 341, 192, 160, 139, 111, 82, 67, 57, 56]"
      ]
     },
     "execution_count": 19,
     "metadata": {},
     "output_type": "execute_result"
    },
    {
     "data": {
      "text/plain": [
       "array([11184, 11182, 13698, 13277, 13276, 13617,  9032,  9369,  8019,\n",
       "       14653])"
      ]
     },
     "execution_count": 19,
     "metadata": {},
     "output_type": "execute_result"
    }
   ],
   "source": [
    "sorted(tm[3][11184, :], reverse=True)[:10]\n",
    "np.argsort(-tm[3][11184, :])[:10]"
   ]
  },
  {
   "cell_type": "markdown",
   "metadata": {},
   "source": [
    "计算误差\n",
    "\n",
    "---"
   ]
  },
  {
   "cell_type": "code",
   "execution_count": 34,
   "metadata": {},
   "outputs": [],
   "source": [
    "def cal_error_next(n, pred, truth):\n",
    "    print(\"RMSE = {}\".format(rmse(pred[n].sum(axis=0)/6, truth[n+1].sum(axis=1))), \"MAE = {}\".format(mae(pred[n].sum(axis=0)/6, truth[n+1].sum(axis=1))), \"MAE/mean = {}\".format(maedivmean(pred[n].sum(axis=0)/6, truth[n+1].sum(axis=1))), sep=\"\\t\")\n",
    "    \n",
    "def cal_error(n, pred, truth):\n",
    "    print(\"RMSE = {}\".format(rmse(pred[n].sum(axis=0)/6, truth[n].sum(axis=0))), \"MAE = {}\".format(mae(pred[n].sum(axis=0)/6, truth[n].sum(axis=0))),\"MAE/mean = {}\".format(maedivmean(pred[n].sum(axis=0)/6, truth[n].sum(axis=0))), sep=\"\\t\")\n",
    "    \n",
    "def cal_error_comp(n, pred, truth):\n",
    "    print(\"RMSE = {}\".format(rmse(pred[n]/6, truth[n])), \"MAE = {}\".format(mae(pred[n]/6, truth[n])), sep=\"\\t\")\n",
    "    \n",
    "def get_errors_next(n, pred, truth):\n",
    "    return [rmse(pred[n].sum(axis=0)/6, truth[n+1].sum(axis=1)), mae(pred[n].sum(axis=0)/6, truth[n+1].sum(axis=1)), maedivmean(pred[n].sum(axis=0)/6, truth[n+1].sum(axis=1))]\n",
    "    \n",
    "def get_errors(n, pred, truth):\n",
    "    return [rmse(pred[n].sum(axis=0)/6, truth[n].sum(axis=0)), mae(pred[n].sum(axis=0)/6, truth[n].sum(axis=0)), maedivmean(pred[n].sum(axis=0)/6, truth[n].sum(axis=0))]\n",
    "    "
   ]
  },
  {
   "cell_type": "code",
   "execution_count": 36,
   "metadata": {},
   "outputs": [
    {
     "name": "stdout",
     "output_type": "stream",
     "text": [
      "RMSE = 34.151135098946106\tMAE = 7.980674384531253\tMAE/mean = 0.5764050352935566\n",
      "RMSE = 24.267035444519482\tMAE = 9.500959574072928\tMAE/mean = 0.4810065881438485\n",
      "RMSE = 39.529009443043684\tMAE = 11.259569945727314\tMAE/mean = 0.3822157448698388\n",
      "RMSE = 31.091211518580096\tMAE = 10.740502280278172\tMAE/mean = 0.2997711143287959\n",
      "RMSE = 26.17701975096281\tMAE = 9.108184238222002\tMAE/mean = 0.24333342705595737\n",
      "RMSE = 34.68992303085097\tMAE = 10.39747002620772\tMAE/mean = 0.3022118975942457\n"
     ]
    }
   ],
   "source": [
    "for n in range(1, 7):\n",
    "    cal_error_next(n, tm, tm_test)"
   ]
  },
  {
   "cell_type": "code",
   "execution_count": 35,
   "metadata": {},
   "outputs": [
    {
     "name": "stdout",
     "output_type": "stream",
     "text": [
      "RMSE = 18.17860928219665\tMAE = 5.53881631895004\tMAE/mean = 0.2372855059010741\n",
      "RMSE = 13.946350835399679\tMAE = 4.210941208031532\tMAE/mean = 0.3041356655697048\n",
      "RMSE = 44.75242807962788\tMAE = 13.320177882333518\tMAE/mean = 0.6743627595400626\n",
      "RMSE = 37.818427272011306\tMAE = 12.1186776450195\tMAE/mean = 0.4113788914901039\n",
      "RMSE = 22.57583111956485\tMAE = 8.041818857178233\tMAE/mean = 0.22444993140341357\n",
      "RMSE = 28.253013114044236\tMAE = 9.000784168059596\tMAE/mean = 0.24046413648660342\n",
      "RMSE = 31.287880883729727\tMAE = 9.053375018056503\tMAE/mean = 0.26314455698768785\n"
     ]
    }
   ],
   "source": [
    "for n in range(1, 8):\n",
    "    cal_error(n, tm, tm_test)"
   ]
  },
  {
   "cell_type": "markdown",
   "metadata": {},
   "source": [
    "自己到自己占了太多，去掉\n",
    "\n",
    "---"
   ]
  },
  {
   "cell_type": "code",
   "execution_count": 8,
   "metadata": {},
   "outputs": [],
   "source": [
    "tm_0diag=tm.copy()\n",
    "\n",
    "for t in range(9):\n",
    "    for i in range(len(tm_0diag[t])):\n",
    "        tm_0diag[t][i][i]=0\n",
    "        \n",
    "tm_test_0diag=tm_test.copy()\n",
    "\n",
    "for t in range(9):\n",
    "    for i in range(len(tm_test_0diag[t])):\n",
    "        tm_test_0diag[t][i][i]=0"
   ]
  },
  {
   "cell_type": "code",
   "execution_count": 21,
   "metadata": {},
   "outputs": [
    {
     "data": {
      "text/plain": [
       "[667.6666666666667,\n",
       " 590.8333333333333,\n",
       " 514.0,\n",
       " 488.33333333333337,\n",
       " 474.83333333333337,\n",
       " 470.83333333333337,\n",
       " 438.33333333333326,\n",
       " 422.66666666666663,\n",
       " 356.33333333333337,\n",
       " 354.0]"
      ]
     },
     "execution_count": 21,
     "metadata": {},
     "output_type": "execute_result"
    },
    {
     "data": {
      "text/plain": [
       "array([11184, 12259, 13274, 13615, 12249, 13616,  7941, 12248, 10961,\n",
       "       14055])"
      ]
     },
     "execution_count": 21,
     "metadata": {},
     "output_type": "execute_result"
    },
    {
     "data": {
      "text/plain": [
       "array([1171.66666667, 1047.83333333,  960.        ,  679.33333333,\n",
       "        878.83333333,  781.83333333, 1089.33333333,  751.66666667,\n",
       "        744.33333333,  654.        ])"
      ]
     },
     "execution_count": 21,
     "metadata": {},
     "output_type": "execute_result"
    },
    {
     "data": {
      "text/plain": [
       "array([504, 457, 446, 191, 404, 311, 651, 329, 388, 300])"
      ]
     },
     "execution_count": 21,
     "metadata": {},
     "output_type": "execute_result"
    }
   ],
   "source": [
    "temp2=np.abs(tm_0diag[3].sum(axis=0)/6 - tm_test_0diag[4].sum(axis=1))\n",
    "sorted(temp2, reverse=True)[:10]\n",
    "np.argsort(-temp2)[:10]\n",
    "\n",
    "(tm_0diag[3].sum(axis=0)/6)[np.argsort(-temp2)[:10]]\n",
    "tm_test_0diag[4].sum(axis=1)[np.argsort(-temp2)[:10]]"
   ]
  },
  {
   "cell_type": "code",
   "execution_count": 31,
   "metadata": {},
   "outputs": [
    {
     "data": {
      "text/plain": [
       "<BarContainer object of 100 artists>"
      ]
     },
     "execution_count": 31,
     "metadata": {},
     "output_type": "execute_result"
    },
    {
     "data": {
      "text/plain": [
       "<BarContainer object of 100 artists>"
      ]
     },
     "execution_count": 31,
     "metadata": {},
     "output_type": "execute_result"
    },
    {
     "data": {
      "text/plain": [
       "<matplotlib.legend.Legend at 0x7fe7321847f0>"
      ]
     },
     "execution_count": 31,
     "metadata": {},
     "output_type": "execute_result"
    },
    {
     "data": {
      "image/png": "[encoded data removed]",
      "text/plain": [
       "<Figure size 432x288 with 1 Axes>"
      ]
     },
     "metadata": {
      "needs_background": "light"
     },
     "output_type": "display_data"
    }
   ],
   "source": [
    "plt.bar(range(len(temp[:100])), sorted(temp, reverse=True)[:100], label=\"diag\")\n",
    "plt.bar(range(len(temp2[:100])), sorted(temp2, reverse=True)[:100], label=\"0diag\")\n",
    "plt.legend()\n",
    "plt.show()"
   ]
  },
  {
   "cell_type": "code",
   "execution_count": 83,
   "metadata": {},
   "outputs": [
    {
     "data": {
      "text/plain": [
       "[<matplotlib.lines.Line2D at 0x7fc0415c28b0>]"
      ]
     },
     "execution_count": 83,
     "metadata": {},
     "output_type": "execute_result"
    },
    {
     "data": {
      "image/png": "[encoded data removed]",
      "text/plain": [
       "<Figure size 432x288 with 1 Axes>"
      ]
     },
     "metadata": {
      "needs_background": "light"
     },
     "output_type": "display_data"
    }
   ],
   "source": [
    "plt.plot(range(len(temp2)), temp2)\n",
    "\n",
    "plt.show()"
   ]
  },
  {
   "cell_type": "code",
   "execution_count": 103,
   "metadata": {},
   "outputs": [
    {
     "data": {
      "text/plain": [
       "16153"
      ]
     },
     "execution_count": 103,
     "metadata": {},
     "output_type": "execute_result"
    },
    {
     "data": {
      "text/plain": [
       "13"
      ]
     },
     "execution_count": 103,
     "metadata": {},
     "output_type": "execute_result"
    },
    {
     "data": {
      "text/plain": [
       "118"
      ]
     },
     "execution_count": 103,
     "metadata": {},
     "output_type": "execute_result"
    },
    {
     "data": {
      "text/plain": [
       "345"
      ]
     },
     "execution_count": 103,
     "metadata": {},
     "output_type": "execute_result"
    },
    {
     "data": {
      "text/plain": [
       "2770"
      ]
     },
     "execution_count": 103,
     "metadata": {},
     "output_type": "execute_result"
    },
    {
     "data": {
      "text/plain": [
       "2116"
      ]
     },
     "execution_count": 103,
     "metadata": {},
     "output_type": "execute_result"
    },
    {
     "data": {
      "text/plain": [
       "10791"
      ]
     },
     "execution_count": 103,
     "metadata": {},
     "output_type": "execute_result"
    },
    {
     "name": "stdout",
     "output_type": "stream",
     "text": [
      "---------------------------\n"
     ]
    },
    {
     "data": {
      "text/plain": [
       "0.970531789760416"
      ]
     },
     "execution_count": 103,
     "metadata": {},
     "output_type": "execute_result"
    },
    {
     "data": {
      "text/plain": [
       "0.9571596607441342"
      ]
     },
     "execution_count": 103,
     "metadata": {},
     "output_type": "execute_result"
    },
    {
     "data": {
      "text/plain": [
       "0.9349346870550362"
      ]
     },
     "execution_count": 103,
     "metadata": {},
     "output_type": "execute_result"
    },
    {
     "data": {
      "text/plain": [
       "0.8966755401473411"
      ]
     },
     "execution_count": 103,
     "metadata": {},
     "output_type": "execute_result"
    },
    {
     "data": {
      "text/plain": [
       "0.7990466167275428"
      ]
     },
     "execution_count": 103,
     "metadata": {},
     "output_type": "execute_result"
    },
    {
     "data": {
      "text/plain": [
       "0.6680492787717451"
      ]
     },
     "execution_count": 103,
     "metadata": {},
     "output_type": "execute_result"
    },
    {
     "data": {
      "text/plain": [
       "0.5618770507026558"
      ]
     },
     "execution_count": 103,
     "metadata": {},
     "output_type": "execute_result"
    },
    {
     "data": {
      "text/plain": [
       "0.3266266328236241"
      ]
     },
     "execution_count": 103,
     "metadata": {},
     "output_type": "execute_result"
    }
   ],
   "source": [
    "len(temp2)\n",
    "np.sum(temp2>=300)\n",
    "np.sum((temp2>=100) & (temp2<300))\n",
    "np.sum((temp2>=50) & (temp2<100))\n",
    "np.sum((temp2>=10) & (temp2<50))\n",
    "np.sum((temp2>=5) & (temp2<10))\n",
    "np.sum(temp2<5)\n",
    "print(\"---------------------------\")\n",
    "np.sum(temp2<50)/len(temp2)\n",
    "np.sum(temp2<40)/len(temp2)\n",
    "np.sum(temp2<30)/len(temp2)\n",
    "np.sum(temp2<20)/len(temp2)\n",
    "np.sum(temp2<10)/len(temp2)\n",
    "np.sum(temp2<5)/len(temp2)\n",
    "np.sum(temp2<3)/len(temp2)\n",
    "np.sum(temp2<1)/len(temp2)"
   ]
  },
  {
   "cell_type": "code",
   "execution_count": 85,
   "metadata": {},
   "outputs": [
    {
     "data": {
      "text/plain": [
       "26.16554200458119"
      ]
     },
     "execution_count": 85,
     "metadata": {},
     "output_type": "execute_result"
    }
   ],
   "source": [
    "np.mean(tm_test_0diag[4].sum(axis=1))"
   ]
  },
  {
   "cell_type": "code",
   "execution_count": 37,
   "metadata": {},
   "outputs": [
    {
     "name": "stdout",
     "output_type": "stream",
     "text": [
      "RMSE = 23.622282058138694\tMAE = 7.098454363482532\tMAE/mean = 0.5688469069164418\n",
      "RMSE = 20.814775944291085\tMAE = 8.644782187003445\tMAE/mean = 0.4891861562247476\n",
      "RMSE = 23.650669921433195\tMAE = 8.447089291978786\tMAE/mean = 0.3228325746319273\n",
      "RMSE = 20.576889119471772\tMAE = 8.24854000288904\tMAE/mean = 0.2634752958128418\n",
      "RMSE = 16.51951798227317\tMAE = 6.9337377989640725\tMAE/mean = 0.22156763443668082\n",
      "RMSE = 19.500113409490798\tMAE = 7.659867104149899\tMAE/mean = 0.2560856559000023\n"
     ]
    }
   ],
   "source": [
    "for n in range(1, 7):\n",
    "    cal_error_next(n, tm_0diag, tm_test_0diag)"
   ]
  },
  {
   "cell_type": "code",
   "execution_count": null,
   "metadata": {},
   "outputs": [],
   "source": [
    "rmse_list_next=[]\n",
    "mae_list_next=[]\n",
    "mm_list_next=[]\n",
    "\n",
    "for n in range(1, 7):\n",
    "    rmse_list_next.append(rmse())"
   ]
  },
  {
   "cell_type": "code",
   "execution_count": 38,
   "metadata": {},
   "outputs": [
    {
     "name": "stdout",
     "output_type": "stream",
     "text": [
      "RMSE = 13.717792613348866\tMAE = 4.990115355248768\tMAE/mean = 0.23162119318209035\n",
      "RMSE = 11.002878423779844\tMAE = 3.793485214304876\tMAE/mean = 0.30399749298830503\n",
      "RMSE = 28.4744519798721\tMAE = 10.217885222559277\tMAE/mean = 0.5782040413099225\n",
      "RMSE = 26.7235797413329\tMAE = 9.613301966610951\tMAE/mean = 0.3674031275533221\n",
      "RMSE = 14.409062009092327\tMAE = 6.308260591427804\tMAE/mean = 0.20149878945956437\n",
      "RMSE = 15.117172435341976\tMAE = 6.304164345116489\tMAE/mean = 0.20144961080821586\n",
      "RMSE = 16.741151786786606\tMAE = 6.458098598815493\tMAE/mean = 0.2159079776525829\n"
     ]
    }
   ],
   "source": [
    "for n in range(1, 8):\n",
    "    cal_error(n, tm_0diag, tm_test_0diag)"
   ]
  },
  {
   "cell_type": "markdown",
   "metadata": {},
   "source": [
    "直接用前6天的转移矩阵/6和第7天的对比"
   ]
  },
  {
   "cell_type": "code",
   "execution_count": 61,
   "metadata": {},
   "outputs": [
    {
     "name": "stdout",
     "output_type": "stream",
     "text": [
      "RMSE = 0.057021828054658164\tMAE = 0.0009889733167889009\n",
      "RMSE = 0.0482158101116306\tMAE = 0.0005869864846530579\n",
      "RMSE = 0.10542048439497247\tMAE = 0.0012340802902861402\n",
      "RMSE = 0.09721171448356627\tMAE = 0.0014939491654810037\n",
      "RMSE = 0.06922023214072114\tMAE = 0.0014144686849775297\n",
      "RMSE = 0.07903273194916476\tMAE = 0.001375906969547615\n",
      "RMSE = 0.08018996207964632\tMAE = 0.0014158203156132824\n"
     ]
    }
   ],
   "source": [
    "for n in range(1, 8):\n",
    "    cal_error_comp(n, tm_0diag, tm_test_0diag)"
   ]
  },
  {
   "cell_type": "code",
   "execution_count": 68,
   "metadata": {},
   "outputs": [
    {
     "data": {
      "text/plain": [
       "0.0016198564975287062"
      ]
     },
     "execution_count": 68,
     "metadata": {},
     "output_type": "execute_result"
    }
   ],
   "source": [
    "np.mean(tm_test_0diag[4])"
   ]
  },
  {
   "cell_type": "code",
   "execution_count": 69,
   "metadata": {},
   "outputs": [
    {
     "data": {
      "text/plain": [
       "0.7817227173231548"
      ]
     },
     "execution_count": 69,
     "metadata": {},
     "output_type": "execute_result"
    }
   ],
   "source": [
    "mape_no0(tm_0diag[3]/6, tm_test_0diag[4])"
   ]
  }
 ],
 "metadata": {
  "kernelspec": {
   "display_name": "Python [conda env:dz] *",
   "language": "python",
   "name": "conda-env-dz-py"
  },
  "language_info": {
   "codemirror_mode": {
    "name": "ipython",
    "version": 3
   },
   "file_extension": ".py",
   "mimetype": "text/x-python",
   "name": "python",
   "nbconvert_exporter": "python",
   "pygments_lexer": "ipython3",
   "version": "3.8.5"
  },
  "orig_nbformat": 4
 },
 "nbformat": 4,
 "nbformat_minor": 2
}

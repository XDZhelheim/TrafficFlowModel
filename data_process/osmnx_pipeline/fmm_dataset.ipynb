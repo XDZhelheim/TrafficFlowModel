{
 "cells": [
  {
   "cell_type": "code",
   "execution_count": 4,
   "metadata": {},
   "outputs": [
    {
     "data": {
      "text/plain": [
       "'/home/cseadmin/data/cys/TrafficFlowModel/data_process'"
      ]
     },
     "execution_count": 4,
     "metadata": {},
     "output_type": "execute_result"
    }
   ],
   "source": [
    "import numpy as np\n",
    "import pandas as pd\n",
    "import os\n",
    "import matplotlib.pyplot as plt\n",
    "from tqdm import tqdm\n",
    "import networkx as nx\n",
    "import json\n",
    "import osmnx as ox\n",
    "\n",
    "from IPython.core.interactiveshell import InteractiveShell\n",
    "InteractiveShell.ast_node_interactivity = \"all\"\n",
    "\n",
    "%pwd"
   ]
  },
  {
   "cell_type": "code",
   "execution_count": 5,
   "metadata": {},
   "outputs": [],
   "source": [
    "minlat=22.5310\n",
    "maxlat=22.5397\n",
    "minlng=114.0442\n",
    "maxlng=114.0633\n",
    "\n",
    "def contains(lat, lng):\n",
    "    return lat>=minlat and lat<=maxlat and lng>=minlng and lng<=maxlng"
   ]
  },
  {
   "cell_type": "code",
   "execution_count": 6,
   "metadata": {},
   "outputs": [
    {
     "name": "stderr",
     "output_type": "stream",
     "text": [
      "  8%|▊         | 21010/252072 [00:00<00:00, 383130.56it/s]\n"
     ]
    }
   ],
   "source": [
    "# Mon. to Fri.\n",
    "gps_file=open(\"../data/fmm_data/gps.csv\", \"w\")\n",
    "write_length=gps_file.write(\"id;x;y;time\\n\") # disable printing return value\n",
    "\n",
    "timedelta_30=pd.Timedelta(seconds=30)\n",
    "timedelta_600=pd.Timedelta(seconds=600)\n",
    "\n",
    "traj_counter=0 # this is global now\n",
    "for taxi_file in tqdm(sorted(os.listdir(\"../data/taxi_after_proc/merged\"))):\n",
    "    date=int(taxi_file.split(\"_\")[0].split(\"-\")[1])\n",
    "    if date<2 or date>6:\n",
    "        continue\n",
    "    if os.path.getsize(f\"../data/taxi_after_proc/merged/{taxi_file}\")<100:\n",
    "        continue\n",
    "    df_taxi=pd.read_csv(f\"../data/taxi_after_proc/merged/{taxi_file}\", parse_dates=[\"gps_time\"])\n",
    "    if df_taxi.empty:\n",
    "        continue\n",
    "    \n",
    "    line_buffer=[]\n",
    "    last_time=df_taxi.iloc[0][\"gps_time\"]+pd.Timedelta(seconds=-600)\n",
    "    for row in df_taxi.itertuples():\n",
    "        if not contains(row[1], row[2]):\n",
    "            continue\n",
    "        if row[3]-last_time<timedelta_30: # resample: drop <30s\n",
    "            continue\n",
    "        if row[3]-last_time>timedelta_600:\n",
    "            if len(line_buffer)>1: # only store length>1 traj\n",
    "                write_length=gps_file.write(\"\".join(line_buffer))\n",
    "                traj_counter+=1\n",
    "            line_buffer=[]\n",
    "            \n",
    "        last_time=row[3]\n",
    "        \n",
    "        line_buffer.append(f\"{traj_counter};{row[2]};{row[1]};{row[3]}\\n\")\n",
    "        \n",
    "gps_file.close()"
   ]
  },
  {
   "cell_type": "code",
   "execution_count": 3,
   "metadata": {},
   "outputs": [
    {
     "name": "stdout",
     "output_type": "stream",
     "text": [
      "[info][ubodt_gen_app_config.cpp:42 ] Start reading ubodt configuration from arguments\n",
      "[info][ubodt_gen_app_config.cpp:70 ] Finish with reading ubodt arg configuration\n",
      "[info][ubodt_gen_app_config.cpp:74 ] ----    Print configuration   ----\n",
      "[info][network_config.cpp:6  ] NetworkConfig\n",
      "[info][network_config.cpp:7  ] File name: ../data/fmm_data/edges.shp \n",
      "[info][network_config.cpp:8  ] ID name: fid \n",
      "[info][network_config.cpp:9  ] Source name: u \n",
      "[info][network_config.cpp:10 ] Target name: v \n",
      "[info][ubodt_gen_app_config.cpp:76 ] Delta 0.03\n",
      "[info][ubodt_gen_app_config.cpp:77 ] Output file ../data/fmm_data/ubodt.txt\n",
      "[info][ubodt_gen_app_config.cpp:78 ] Log level 2-info\n",
      "[info][ubodt_gen_app_config.cpp:79 ] Use omp true\n",
      "[info][ubodt_gen_app_config.cpp:80 ] ---- Print configuration done ----\n",
      "[info][ubodt_gen_app_config.cpp:97 ] Validating configuration for UBODT construction\n",
      "[warning][ubodt_gen_app_config.cpp:102] Overwrite result file ../data/fmm_data/ubodt.txt\n",
      "[info][ubodt_gen_app_config.cpp:118] Validating done.\n",
      "[info][network.cpp:72 ] Read network from file ../data/fmm_data/edges.shp\n",
      "[info][network.cpp:170] Number of edges 408 nodes 248\n",
      "[info][network.cpp:172] Field index: id 14 source 0 target 1\n",
      "[info][network.cpp:174] Read network done.\n",
      "[info][network_graph.cpp:17 ] Construct graph from network edges start\n",
      "[info][network_graph.cpp:30 ] Graph nodes 248 edges 408\n",
      "[info][network_graph.cpp:31 ] Construct graph from network edges end\n",
      "[info][ubodt_gen_app.cpp:20 ] Write UBODT to file ../data/fmm_data/ubodt.txt\n",
      "[info][ubodt_gen_algorithm.cpp:76 ] Start to generate UBODT with delta 0.03\n",
      "[info][ubodt_gen_algorithm.cpp:77 ] Output format csv\n",
      "[info][ubodt_gen_algorithm.cpp:105] Progress 24 / 248\n",
      "[info][ubodt_gen_algorithm.cpp:105] Progress 48 / 248\n",
      "[info][ubodt_gen_algorithm.cpp:105] Progress 72 / 248\n",
      "[info][ubodt_gen_algorithm.cpp:105] Progress 96 / 248\n",
      "[info][ubodt_gen_algorithm.cpp:105] Progress 120 / 248\n",
      "[info][ubodt_gen_algorithm.cpp:105] Progress 144 / 248\n",
      "[info][ubodt_gen_algorithm.cpp:105] Progress 168 / 248\n",
      "[info][ubodt_gen_algorithm.cpp:105] Progress 192 / 248\n",
      "[info][ubodt_gen_algorithm.cpp:105] Progress 216 / 248\n",
      "[info][ubodt_gen_algorithm.cpp:105] Progress 240 / 248\n",
      "[info][ubodt_gen_app.cpp:30 ] Time takes 0.103\n"
     ]
    },
    {
     "name": "stderr",
     "output_type": "stream",
     "text": [
      "bash: line 1: fg: no job control\n",
      "ERROR 4: Unable to open EPSG support file gcs.csv.  Try setting the GDAL_DATA environment variable to point to the directory containing EPSG csv files.\n"
     ]
    }
   ],
   "source": [
    "%%bash\n",
    "\n",
    "# https://github.com/cyang-kth/fmm/issues/166\n",
    "# https://github.com/cyang-kth/fmm/blob/master/example/osmnx_example/README.md\n",
    "ubodt_gen --network ../data/fmm_data/edges.shp --network_id fid --source u --target v --output ../data/fmm_data/ubodt.txt --delta 0.03 --use_omp"
   ]
  },
  {
   "cell_type": "code",
   "execution_count": 10,
   "metadata": {},
   "outputs": [],
   "source": [
    "%%bash\n",
    "\n",
    "nohup fmm --ubodt ../data/fmm_data/ubodt.txt --network ../data/fmm_data/edges.shp --network_id fid --source u --target v --gps ../data/fmm_data/gps.csv --gps_point -k 8 -r 0.003 -e 0.0005 --output ../data/fmm_data/mr.txt --use_omp --output_fields id,opath,cpath,mgeom > ../data/fmm_data/fmm.log 2>&1"
   ]
  }
 ],
 "metadata": {
  "interpreter": {
   "hash": "476fbdcfc7b106bd527dcc3634a7654c2a942349860ebda7174f1fd38664bcc4"
  },
  "kernelspec": {
   "display_name": "Python 3.8.5 64-bit ('dz': conda)",
   "language": "python",
   "name": "python3"
  },
  "language_info": {
   "codemirror_mode": {
    "name": "ipython",
    "version": 3
   },
   "file_extension": ".py",
   "mimetype": "text/x-python",
   "name": "python",
   "nbconvert_exporter": "python",
   "pygments_lexer": "ipython3",
   "version": "3.8.5"
  },
  "orig_nbformat": 4
 },
 "nbformat": 4,
 "nbformat_minor": 2
}

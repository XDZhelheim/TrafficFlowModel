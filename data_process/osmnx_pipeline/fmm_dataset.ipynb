{
 "cells": [
  {
   "cell_type": "code",
   "execution_count": 1,
   "metadata": {},
   "outputs": [
    {
     "data": {
      "text/plain": [
       "'/home/cseadmin/dz/TrafficFlowModel/data_process/gis_pipeline'"
      ]
     },
     "execution_count": 1,
     "metadata": {},
     "output_type": "execute_result"
    }
   ],
   "source": [
    "import numpy as np\n",
    "import pandas as pd\n",
    "import os\n",
    "import matplotlib.pyplot as plt\n",
    "from tqdm import tqdm\n",
    "import networkx as nx\n",
    "import json\n",
    "import osmnx as ox\n",
    "\n",
    "from IPython.core.interactiveshell import InteractiveShell\n",
    "InteractiveShell.ast_node_interactivity = \"all\"\n",
    "\n",
    "%pwd"
   ]
  },
  {
   "cell_type": "code",
   "execution_count": 2,
   "metadata": {},
   "outputs": [],
   "source": [
    "DATA_PATH = \"../../data/\"\n",
    "TAXI_DATA_PATH = \"../../data/taxi_after_proc/clean202006\"\n",
    "DATASET = \"sz_taxi_202006\"\n",
    "\n",
    "MIN_LAT = 22.5311\n",
    "MAX_LAT = 22.5517\n",
    "MIN_LNG = 114.0439\n",
    "MAX_LNG = 114.0633\n",
    "delta = 0\n",
    "\n",
    "START_DAY = 1\n",
    "END_DAY = 30\n",
    "\n",
    "DOWNSAMPLING_INTERVAL = 10 #s\n",
    "TRAJ_SPLIT_INTERVAL = 600\n",
    "FLOW_AGG_INTERVAL_MINUTE = 5\n",
    "\n",
    "def contains(lat, lng):\n",
    "    return lat >= MIN_LAT - delta and lat <= MAX_LAT + delta and lng >= MIN_LNG - delta and lng <= MAX_LNG + delta\n",
    "\n",
    "def notify(msg):\n",
    "    import datetime\n",
    "    channel = \"J0budaR2THarZw0OqS5O\"\n",
    "    notify_url = f\"https://notify.run/{channel}\"\n",
    "    massage = f\"{msg} | {str(datetime.datetime.now())}\"\n",
    "    os.system(f'curl {notify_url} -d \"{massage}\"')"
   ]
  },
  {
   "cell_type": "code",
   "execution_count": 1,
   "metadata": {},
   "outputs": [],
   "source": [
    "import math\n",
    "\n",
    "def distance(origin, destination):\n",
    "    \"\"\"\n",
    "    Calculate the Haversine distance.\n",
    "\n",
    "    Parameters\n",
    "    ----------\n",
    "    origin : tuple of float\n",
    "        (lat, long)\n",
    "    destination : tuple of float\n",
    "        (lat, long)\n",
    "\n",
    "    Returns\n",
    "    -------\n",
    "    distance_in_km : float\n",
    "\n",
    "    Examples\n",
    "    --------\n",
    "    >>> origin = (48.1372, 11.5756)  # Munich\n",
    "    >>> destination = (52.5186, 13.4083)  # Berlin\n",
    "    >>> round(distance(origin, destination), 1)\n",
    "    504.2\n",
    "    \"\"\"\n",
    "    lat1, lon1 = origin\n",
    "    lat2, lon2 = destination\n",
    "    radius = 6371  # km\n",
    "    \n",
    "    if lat1 == -1 or lon1 == -1 or lat2 == -1 or lon2 == -1:\n",
    "        return 0\n",
    "\n",
    "    dlat = math.radians(lat2 - lat1)\n",
    "    dlon = math.radians(lon2 - lon1)\n",
    "    a = (math.sin(dlat / 2) * math.sin(dlat / 2) +\n",
    "         math.cos(math.radians(lat1)) * math.cos(math.radians(lat2)) *\n",
    "         math.sin(dlon / 2) * math.sin(dlon / 2))\n",
    "    c = 2 * math.atan2(math.sqrt(a), math.sqrt(1 - a))\n",
    "    d = radius * c\n",
    "\n",
    "    return d"
   ]
  },
  {
   "cell_type": "code",
   "execution_count": 5,
   "metadata": {},
   "outputs": [
    {
     "data": {
      "text/plain": [
       "0.012581163581149576"
      ]
     },
     "execution_count": 5,
     "metadata": {},
     "output_type": "execute_result"
    }
   ],
   "source": [
    "distance((114.05215, 22.540995), (114.05204, 22.54106))#/(300/3600)"
   ]
  },
  {
   "cell_type": "code",
   "execution_count": 31,
   "metadata": {},
   "outputs": [
    {
     "name": "stdout",
     "output_type": "stream",
     "text": [
      "06-08_粤BD05049.pkl\n"
     ]
    },
    {
     "data": {
      "text/html": [
       "<div>\n",
       "<style scoped>\n",
       "    .dataframe tbody tr th:only-of-type {\n",
       "        vertical-align: middle;\n",
       "    }\n",
       "\n",
       "    .dataframe tbody tr th {\n",
       "        vertical-align: top;\n",
       "    }\n",
       "\n",
       "    .dataframe thead th {\n",
       "        text-align: right;\n",
       "    }\n",
       "</style>\n",
       "<table border=\"1\" class=\"dataframe\">\n",
       "  <thead>\n",
       "    <tr style=\"text-align: right;\">\n",
       "      <th></th>\n",
       "      <th>lat</th>\n",
       "      <th>lng</th>\n",
       "      <th>gps_time</th>\n",
       "      <th>speed</th>\n",
       "    </tr>\n",
       "  </thead>\n",
       "  <tbody>\n",
       "    <tr>\n",
       "      <th>11166</th>\n",
       "      <td>22.621640</td>\n",
       "      <td>114.156740</td>\n",
       "      <td>2020-06-07 23:56:21</td>\n",
       "      <td>0</td>\n",
       "    </tr>\n",
       "    <tr>\n",
       "      <th>9214635</th>\n",
       "      <td>22.621632</td>\n",
       "      <td>114.156746</td>\n",
       "      <td>2020-06-08 02:11:27</td>\n",
       "      <td>0</td>\n",
       "    </tr>\n",
       "    <tr>\n",
       "      <th>4556480</th>\n",
       "      <td>22.621574</td>\n",
       "      <td>114.156810</td>\n",
       "      <td>2020-06-08 13:32:15</td>\n",
       "      <td>7</td>\n",
       "    </tr>\n",
       "    <tr>\n",
       "      <th>4579770</th>\n",
       "      <td>22.621704</td>\n",
       "      <td>114.156600</td>\n",
       "      <td>2020-06-08 13:32:36</td>\n",
       "      <td>15</td>\n",
       "    </tr>\n",
       "    <tr>\n",
       "      <th>4601596</th>\n",
       "      <td>22.622225</td>\n",
       "      <td>114.155785</td>\n",
       "      <td>2020-06-08 13:32:56</td>\n",
       "      <td>16</td>\n",
       "    </tr>\n",
       "    <tr>\n",
       "      <th>...</th>\n",
       "      <td>...</td>\n",
       "      <td>...</td>\n",
       "      <td>...</td>\n",
       "      <td>...</td>\n",
       "    </tr>\n",
       "    <tr>\n",
       "      <th>3410211</th>\n",
       "      <td>22.569810</td>\n",
       "      <td>114.117760</td>\n",
       "      <td>2020-06-08 23:55:54</td>\n",
       "      <td>63</td>\n",
       "    </tr>\n",
       "    <tr>\n",
       "      <th>3429444</th>\n",
       "      <td>22.572780</td>\n",
       "      <td>114.117880</td>\n",
       "      <td>2020-06-08 23:56:13</td>\n",
       "      <td>58</td>\n",
       "    </tr>\n",
       "    <tr>\n",
       "      <th>3458226</th>\n",
       "      <td>22.577087</td>\n",
       "      <td>114.116590</td>\n",
       "      <td>2020-06-08 23:56:43</td>\n",
       "      <td>60</td>\n",
       "    </tr>\n",
       "    <tr>\n",
       "      <th>3467801</th>\n",
       "      <td>22.578468</td>\n",
       "      <td>114.115870</td>\n",
       "      <td>2020-06-08 23:56:53</td>\n",
       "      <td>62</td>\n",
       "    </tr>\n",
       "    <tr>\n",
       "      <th>3616598</th>\n",
       "      <td>22.596954</td>\n",
       "      <td>114.111670</td>\n",
       "      <td>2020-06-08 23:59:23</td>\n",
       "      <td>42</td>\n",
       "    </tr>\n",
       "  </tbody>\n",
       "</table>\n",
       "<p>985 rows × 4 columns</p>\n",
       "</div>"
      ],
      "text/plain": [
       "               lat         lng            gps_time  speed\n",
       "11166    22.621640  114.156740 2020-06-07 23:56:21      0\n",
       "9214635  22.621632  114.156746 2020-06-08 02:11:27      0\n",
       "4556480  22.621574  114.156810 2020-06-08 13:32:15      7\n",
       "4579770  22.621704  114.156600 2020-06-08 13:32:36     15\n",
       "4601596  22.622225  114.155785 2020-06-08 13:32:56     16\n",
       "...            ...         ...                 ...    ...\n",
       "3410211  22.569810  114.117760 2020-06-08 23:55:54     63\n",
       "3429444  22.572780  114.117880 2020-06-08 23:56:13     58\n",
       "3458226  22.577087  114.116590 2020-06-08 23:56:43     60\n",
       "3467801  22.578468  114.115870 2020-06-08 23:56:53     62\n",
       "3616598  22.596954  114.111670 2020-06-08 23:59:23     42\n",
       "\n",
       "[985 rows x 4 columns]"
      ]
     },
     "execution_count": 31,
     "metadata": {},
     "output_type": "execute_result"
    }
   ],
   "source": [
    "for taxi_file in os.listdir(TAXI_DATA_PATH):\n",
    "    print(taxi_file)\n",
    "    df_taxi = pd.read_pickle(os.path.join(TAXI_DATA_PATH, taxi_file))\n",
    "    break\n",
    "\n",
    "df_taxi"
   ]
  },
  {
   "cell_type": "code",
   "execution_count": null,
   "metadata": {},
   "outputs": [
    {
     "name": "stderr",
     "output_type": "stream",
     "text": [
      " 16%|█▌        | 102271/649565 [13:54<1:23:36, 109.11it/s]"
     ]
    }
   ],
   "source": [
    "gps_file = open(os.path.join(DATA_PATH, DATASET, f\"fmm_{DATASET}\", \"gps.csv\"), \"w\")\n",
    "trash = gps_file.write(\"id;x;y;time;speed\\n\")\n",
    "\n",
    "timedelta_downsampling = pd.Timedelta(seconds=DOWNSAMPLING_INTERVAL)\n",
    "timedelta_traj_split = pd.Timedelta(seconds=TRAJ_SPLIT_INTERVAL)\n",
    "\n",
    "traj_counter = 0\n",
    "for taxi_file in tqdm(sorted(os.listdir(TAXI_DATA_PATH))):\n",
    "    # date = int(taxi_file.split(\"_\")[0].split(\"-\")[1])\n",
    "    # if date < START_DAY or date > END_DAY:\n",
    "    #     continue\n",
    "    # if os.path.getsize(os.path.join(TAXI_DATA_PATH, taxi_file)) < 100:\n",
    "    #     continue\n",
    "    df_taxi = pd.read_pickle(os.path.join(TAXI_DATA_PATH, taxi_file))\n",
    "    trash=df_taxi.drop_duplicates(\"gps_time\", inplace=True) # 这一步其实该在数据清洗的时候做: 一辆车同一时间出现在不同位置\n",
    "    if len(df_taxi) < 2:\n",
    "        continue\n",
    "    \n",
    "    # check first row's speed\n",
    "    first_row = df_taxi.iloc[0]\n",
    "    if first_row[\"speed\"] == 0:\n",
    "        second_row = df_taxi.iloc[1]\n",
    "        dist = distance((first_row[\"lat\"], first_row[\"lng\"]), (second_row[\"lat\"], second_row[\"lng\"]))\n",
    "        time_delta = (second_row[\"gps_time\"] - first_row[\"gps_time\"]).total_seconds() / 3600 # hour\n",
    "        df_taxi.loc[df_taxi.index[0], \"speed\"] = dist / time_delta # first_row is a copy, must operate on df\n",
    "\n",
    "    line_buffer = []\n",
    "    # (index, lat, lon, time, speed)\n",
    "    last_row = (-1, -1, -1, df_taxi.iloc[0][\"gps_time\"] + pd.Timedelta(seconds=-TRAJ_SPLIT_INTERVAL), -1)\n",
    "    # last_time = df_taxi.iloc[0][\"gps_time\"] + pd.Timedelta(seconds=-TRAJ_SPLIT_INTERVAL)\n",
    "    for row in df_taxi.itertuples():\n",
    "        row = list(row)\n",
    "        if not contains(row[1], row[2]):\n",
    "            continue\n",
    "        if row[3] - last_row[3] < timedelta_downsampling:  # resample: drop <30s\n",
    "            continue\n",
    "        if row[4] > 60: # drop speed > 60km/h\n",
    "            continue\n",
    "        if row[4] == 0:\n",
    "            dist = distance((row[1], row[2]), (last_row[1], last_row[2]))\n",
    "            time_delta = (row[3] - last_row[3]).total_seconds() / 3600 # hour\n",
    "            row[4] = dist / time_delta\n",
    "        if row[3] - last_row[3] > timedelta_traj_split:\n",
    "            if len(line_buffer) > 1:  # only store length>1 traj\n",
    "                trash = gps_file.write(\"\".join(line_buffer))\n",
    "                traj_counter += 1\n",
    "            line_buffer = []\n",
    "\n",
    "        last_row = row\n",
    "\n",
    "        line_buffer.append(f\"{traj_counter};{row[2]};{row[1]};{row[3]};{row[4]}\\n\")\n",
    "\n",
    "gps_file.close()\n",
    "\n",
    "notify(\"Finish fmm dataset.\")"
   ]
  },
  {
   "cell_type": "code",
   "execution_count": 3,
   "metadata": {},
   "outputs": [
    {
     "name": "stdout",
     "output_type": "stream",
     "text": [
      "[info][ubodt_gen_app_config.cpp:42 ] Start reading ubodt configuration from arguments\n",
      "[info][ubodt_gen_app_config.cpp:70 ] Finish with reading ubodt arg configuration\n",
      "[info][ubodt_gen_app_config.cpp:74 ] ----    Print configuration   ----\n",
      "[info][network_config.cpp:6  ] NetworkConfig\n",
      "[info][network_config.cpp:7  ] File name: ../../data/sz_taxi_202006/fmm_sz_taxi_202006/edges.shp \n",
      "[info][network_config.cpp:8  ] ID name: fid \n",
      "[info][network_config.cpp:9  ] Source name: u \n",
      "[info][network_config.cpp:10 ] Target name: v \n",
      "[info][ubodt_gen_app_config.cpp:76 ] Delta 0.03\n",
      "[info][ubodt_gen_app_config.cpp:77 ] Output file ../../data/sz_taxi_202006/fmm_sz_taxi_202006/ubodt.txt\n",
      "[info][ubodt_gen_app_config.cpp:78 ] Log level 2-info\n",
      "[info][ubodt_gen_app_config.cpp:79 ] Use omp true\n",
      "[info][ubodt_gen_app_config.cpp:80 ] ---- Print configuration done ----\n",
      "[info][ubodt_gen_app_config.cpp:97 ] Validating configuration for UBODT construction\n",
      "[warning][ubodt_gen_app_config.cpp:102] Overwrite result file ../../data/sz_taxi_202006/fmm_sz_taxi_202006/ubodt.txt\n",
      "[info][ubodt_gen_app_config.cpp:118] Validating done.\n",
      "[info][network.cpp:72 ] Read network from file ../../data/sz_taxi_202006/fmm_sz_taxi_202006/edges.shp\n",
      "[info][network.cpp:170] Number of edges 492 nodes 147\n",
      "[info][network.cpp:172] Field index: id 0 source 1 target 2\n",
      "[info][network.cpp:174] Read network done.\n",
      "[info][network_graph.cpp:17 ] Construct graph from network edges start\n",
      "[info][network_graph.cpp:30 ] Graph nodes 147 edges 492\n",
      "[info][network_graph.cpp:31 ] Construct graph from network edges end\n",
      "[info][ubodt_gen_app.cpp:20 ] Write UBODT to file ../../data/sz_taxi_202006/fmm_sz_taxi_202006/ubodt.txt\n",
      "[info][ubodt_gen_algorithm.cpp:76 ] Start to generate UBODT with delta 0.03\n",
      "[info][ubodt_gen_algorithm.cpp:77 ] Output format csv\n",
      "[info][ubodt_gen_algorithm.cpp:105] Progress 24 / 147\n",
      "[info][ubodt_gen_algorithm.cpp:105] Progress 24 / 147\n",
      "[info][ubodt_gen_algorithm.cpp:105] Progress 29 / 147\n",
      "[info][ubodt_gen_algorithm.cpp:105] Progress 29 / 147\n",
      "[info][ubodt_gen_algorithm.cpp:105] Progress 42 / 147\n",
      "[info][ubodt_gen_algorithm.cpp:105] Progress 56 / 147\n",
      "[info][ubodt_gen_algorithm.cpp:105] Progress 70 / 147\n",
      "[info][ubodt_gen_algorithm.cpp:105] Progress 84 / 147\n",
      "[info][ubodt_gen_algorithm.cpp:105] Progress 98 / 147\n",
      "[info][ubodt_gen_algorithm.cpp:105] Progress 112 / 147\n",
      "[info][ubodt_gen_app.cpp:30 ] Time takes 0.068\n"
     ]
    },
    {
     "name": "stderr",
     "output_type": "stream",
     "text": [
      "ERROR 4: Unable to open EPSG support file gcs.csv.  Try setting the GDAL_DATA environment variable to point to the directory containing EPSG csv files.\n"
     ]
    },
    {
     "data": {
      "text/plain": [
       "0"
      ]
     },
     "execution_count": 3,
     "metadata": {},
     "output_type": "execute_result"
    }
   ],
   "source": [
    "# https://github.com/cyang-kth/fmm/issues/166\n",
    "# https://github.com/cyang-kth/fmm/blob/master/example/osmnx_example/README.md\n",
    "\n",
    "os.system(\n",
    "    \"ubodt_gen --network {} --network_id fid --source u --target v --output {} --delta 0.03 --use_omp\"\n",
    "    .format(\n",
    "        os.path.join(DATA_PATH, DATASET, f\"fmm_{DATASET}\", \"edges.shp\"),\n",
    "        os.path.join(DATA_PATH, DATASET, f\"fmm_{DATASET}\", \"ubodt.txt\")))\n",
    "os.system(\n",
    "    \"fmm --ubodt {} --network {} --network_id fid --source u --target v --gps {} --gps_point -k 8 -r 0.003 -e 0.0005 --output {} --use_omp --output_fields id,opath,cpath,mgeom > {} 2>&1\"\n",
    "    .format(\n",
    "        os.path.join(DATA_PATH, DATASET, f\"fmm_{DATASET}\", \"ubodt.txt\"),\n",
    "        os.path.join(DATA_PATH, DATASET, f\"fmm_{DATASET}\", \"edges.shp\"),\n",
    "        os.path.join(DATA_PATH, DATASET, f\"fmm_{DATASET}\", \"gps.csv\"),\n",
    "        os.path.join(DATA_PATH, DATASET, f\"fmm_{DATASET}\", \"mr.txt\"),\n",
    "        os.path.join(DATA_PATH, DATASET, f\"fmm_{DATASET}\", \"fmm.log\")))"
   ]
  }
 ],
 "metadata": {
  "interpreter": {
   "hash": "a8de3ed3a1560fc9f13af5266ca08823e90fcdd17bfae2dfaf8ec66fe041076c"
  },
  "kernelspec": {
   "display_name": "Python [conda env:dz] *",
   "language": "python",
   "name": "python3"
  },
  "language_info": {
   "codemirror_mode": {
    "name": "ipython",
    "version": 3
   },
   "file_extension": ".py",
   "mimetype": "text/x-python",
   "name": "python",
   "nbconvert_exporter": "python",
   "pygments_lexer": "ipython3",
   "version": "3.8.5"
  }
 },
 "nbformat": 4,
 "nbformat_minor": 2
}

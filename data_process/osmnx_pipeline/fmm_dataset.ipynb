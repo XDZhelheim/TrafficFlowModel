{
 "cells": [
  {
   "cell_type": "code",
   "execution_count": 1,
   "metadata": {},
   "outputs": [
    {
     "name": "stderr",
     "output_type": "stream",
     "text": [
      "/home/cseadmin/dz/anaconda3/envs/dz/lib/python3.8/site-packages/requests/__init__.py:89: RequestsDependencyWarning: urllib3 (1.26.7) or chardet (4.0.0) doesn't match a supported version!\n",
      "  warnings.warn(\"urllib3 ({}) or chardet ({}) doesn't match a supported \"\n"
     ]
    },
    {
     "data": {
      "text/plain": [
       "'/home/cseadmin/dz/TrafficFlowModel/data_process/gis_pipeline'"
      ]
     },
     "execution_count": 1,
     "metadata": {},
     "output_type": "execute_result"
    }
   ],
   "source": [
    "import numpy as np\n",
    "import pandas as pd\n",
    "import os\n",
    "import matplotlib.pyplot as plt\n",
    "from tqdm import tqdm\n",
    "import networkx as nx\n",
    "import json\n",
    "import osmnx as ox\n",
    "\n",
    "from IPython.core.interactiveshell import InteractiveShell\n",
    "InteractiveShell.ast_node_interactivity = \"all\"\n",
    "\n",
    "%pwd"
   ]
  },
  {
   "cell_type": "code",
   "execution_count": 2,
   "metadata": {},
   "outputs": [],
   "source": [
    "DATA_PATH = \"../../data/\"\n",
    "TAXI_DATA_PATH = \"../../data/taxi_after_proc/clean202006\"\n",
    "DATASET = \"sz_taxi_202006\"\n",
    "\n",
    "MIN_LAT = 22.5311\n",
    "MAX_LAT = 22.5517\n",
    "MIN_LNG = 114.0439\n",
    "MAX_LNG = 114.0633\n",
    "\n",
    "START_DAY = 1\n",
    "END_DAY = 30\n",
    "\n",
    "DOWNSAMPLING_INTERVAL = 30\n",
    "TRAJ_SPLIT_INTERVAL = 600\n",
    "FLOW_AGG_INTERVAL_MINUTE = 15\n",
    "\n",
    "def contains(lat, lng):\n",
    "    return lat >= MIN_LAT and lat <= MAX_LAT and lng >= MIN_LNG and lng <= MAX_LNG"
   ]
  },
  {
   "cell_type": "code",
   "execution_count": 4,
   "metadata": {},
   "outputs": [
    {
     "name": "stderr",
     "output_type": "stream",
     "text": [
      "  1%|          | 7060/617790 [02:22<3:26:08, 49.38it/s]\n"
     ]
    },
    {
     "ename": "KeyboardInterrupt",
     "evalue": "",
     "output_type": "error",
     "traceback": [
      "\u001b[0;31m---------------------------------------------------------------------------\u001b[0m",
      "\u001b[0;31mKeyboardInterrupt\u001b[0m                         Traceback (most recent call last)",
      "\u001b[0;32m/tmp/ipykernel_13898/541718384.py\u001b[0m in \u001b[0;36m<module>\u001b[0;34m\u001b[0m\n\u001b[1;32m     13\u001b[0m         \u001b[0;32mcontinue\u001b[0m\u001b[0;34m\u001b[0m\u001b[0;34m\u001b[0m\u001b[0m\n\u001b[1;32m     14\u001b[0m     \u001b[0;31m# df_taxi = pd.read_csv(os.path.join(TAXI_DATA_PATH, taxi_file), parse_dates=[\"gps_time\"])\u001b[0m\u001b[0;34m\u001b[0m\u001b[0;34m\u001b[0m\u001b[0;34m\u001b[0m\u001b[0m\n\u001b[0;32m---> 15\u001b[0;31m     \u001b[0mdf_taxi\u001b[0m \u001b[0;34m=\u001b[0m \u001b[0mpd\u001b[0m\u001b[0;34m.\u001b[0m\u001b[0mread_pickle\u001b[0m\u001b[0;34m(\u001b[0m\u001b[0mos\u001b[0m\u001b[0;34m.\u001b[0m\u001b[0mpath\u001b[0m\u001b[0;34m.\u001b[0m\u001b[0mjoin\u001b[0m\u001b[0;34m(\u001b[0m\u001b[0mTAXI_DATA_PATH\u001b[0m\u001b[0;34m,\u001b[0m \u001b[0mtaxi_file\u001b[0m\u001b[0;34m)\u001b[0m\u001b[0;34m)\u001b[0m\u001b[0;34m\u001b[0m\u001b[0;34m\u001b[0m\u001b[0m\n\u001b[0m\u001b[1;32m     16\u001b[0m     \u001b[0;32mif\u001b[0m \u001b[0mdf_taxi\u001b[0m\u001b[0;34m.\u001b[0m\u001b[0mempty\u001b[0m\u001b[0;34m:\u001b[0m\u001b[0;34m\u001b[0m\u001b[0;34m\u001b[0m\u001b[0m\n\u001b[1;32m     17\u001b[0m         \u001b[0;32mcontinue\u001b[0m\u001b[0;34m\u001b[0m\u001b[0;34m\u001b[0m\u001b[0m\n",
      "\u001b[0;32m~/anaconda3/envs/dz/lib/python3.8/site-packages/pandas/io/pickle.py\u001b[0m in \u001b[0;36mread_pickle\u001b[0;34m(filepath_or_buffer, compression, storage_options)\u001b[0m\n\u001b[1;32m    215\u001b[0m                     \u001b[0;31m# RawIOBase, BufferedIOBase, TextIOBase, TextIOWrapper, mmap]\";\u001b[0m\u001b[0;34m\u001b[0m\u001b[0;34m\u001b[0m\u001b[0;34m\u001b[0m\u001b[0m\n\u001b[1;32m    216\u001b[0m                     \u001b[0;31m# expected \"IO[bytes]\"\u001b[0m\u001b[0;34m\u001b[0m\u001b[0;34m\u001b[0m\u001b[0;34m\u001b[0m\u001b[0m\n\u001b[0;32m--> 217\u001b[0;31m                     \u001b[0;32mreturn\u001b[0m \u001b[0mpickle\u001b[0m\u001b[0;34m.\u001b[0m\u001b[0mload\u001b[0m\u001b[0;34m(\u001b[0m\u001b[0mhandles\u001b[0m\u001b[0;34m.\u001b[0m\u001b[0mhandle\u001b[0m\u001b[0;34m)\u001b[0m  \u001b[0;31m# type: ignore[arg-type]\u001b[0m\u001b[0;34m\u001b[0m\u001b[0;34m\u001b[0m\u001b[0m\n\u001b[0m\u001b[1;32m    218\u001b[0m             \u001b[0;32mexcept\u001b[0m \u001b[0mexcs_to_catch\u001b[0m\u001b[0;34m:\u001b[0m\u001b[0;34m\u001b[0m\u001b[0;34m\u001b[0m\u001b[0m\n\u001b[1;32m    219\u001b[0m                 \u001b[0;31m# e.g.\u001b[0m\u001b[0;34m\u001b[0m\u001b[0;34m\u001b[0m\u001b[0;34m\u001b[0m\u001b[0m\n",
      "\u001b[0;32m~/anaconda3/envs/dz/lib/python3.8/site-packages/numpy/core/numeric.py\u001b[0m in \u001b[0;36m_frombuffer\u001b[0;34m(buf, dtype, shape, order)\u001b[0m\n\u001b[1;32m   1859\u001b[0m \u001b[0;34m\u001b[0m\u001b[0m\n\u001b[1;32m   1860\u001b[0m \u001b[0;34m\u001b[0m\u001b[0m\n\u001b[0;32m-> 1861\u001b[0;31m \u001b[0;32mdef\u001b[0m \u001b[0m_frombuffer\u001b[0m\u001b[0;34m(\u001b[0m\u001b[0mbuf\u001b[0m\u001b[0;34m,\u001b[0m \u001b[0mdtype\u001b[0m\u001b[0;34m,\u001b[0m \u001b[0mshape\u001b[0m\u001b[0;34m,\u001b[0m \u001b[0morder\u001b[0m\u001b[0;34m)\u001b[0m\u001b[0;34m:\u001b[0m\u001b[0;34m\u001b[0m\u001b[0;34m\u001b[0m\u001b[0m\n\u001b[0m\u001b[1;32m   1862\u001b[0m     \u001b[0;32mreturn\u001b[0m \u001b[0mfrombuffer\u001b[0m\u001b[0;34m(\u001b[0m\u001b[0mbuf\u001b[0m\u001b[0;34m,\u001b[0m \u001b[0mdtype\u001b[0m\u001b[0;34m=\u001b[0m\u001b[0mdtype\u001b[0m\u001b[0;34m)\u001b[0m\u001b[0;34m.\u001b[0m\u001b[0mreshape\u001b[0m\u001b[0;34m(\u001b[0m\u001b[0mshape\u001b[0m\u001b[0;34m,\u001b[0m \u001b[0morder\u001b[0m\u001b[0;34m=\u001b[0m\u001b[0morder\u001b[0m\u001b[0;34m)\u001b[0m\u001b[0;34m\u001b[0m\u001b[0;34m\u001b[0m\u001b[0m\n\u001b[1;32m   1863\u001b[0m \u001b[0;34m\u001b[0m\u001b[0m\n",
      "\u001b[0;31mKeyboardInterrupt\u001b[0m: "
     ]
    }
   ],
   "source": [
    "gps_file = open(os.path.join(DATA_PATH, DATASET, f\"fmm_{DATASET}\", \"gps.csv\"), \"w\")\n",
    "trash = gps_file.write(\"id;x;y;time\\n\")\n",
    "\n",
    "timedelta_downsampling = pd.Timedelta(seconds=DOWNSAMPLING_INTERVAL)\n",
    "timedelta_traj_split = pd.Timedelta(seconds=TRAJ_SPLIT_INTERVAL)\n",
    "\n",
    "traj_counter = 0\n",
    "for taxi_file in tqdm(sorted(os.listdir(TAXI_DATA_PATH))):\n",
    "    date = int(taxi_file.split(\"_\")[0].split(\"-\")[1])\n",
    "    if date < START_DAY or date > END_DAY:\n",
    "        continue\n",
    "    if os.path.getsize(os.path.join(TAXI_DATA_PATH, taxi_file)) < 100:\n",
    "        continue\n",
    "    # df_taxi = pd.read_csv(os.path.join(TAXI_DATA_PATH, taxi_file), parse_dates=[\"gps_time\"])\n",
    "    df_taxi = pd.read_pickle(os.path.join(TAXI_DATA_PATH, taxi_file))\n",
    "    if df_taxi.empty:\n",
    "        continue\n",
    "\n",
    "    line_buffer = []\n",
    "    last_time = df_taxi.iloc[0][\"gps_time\"] + pd.Timedelta(seconds=-TRAJ_SPLIT_INTERVAL)\n",
    "    for row in df_taxi.itertuples():\n",
    "        if not contains(row[1], row[2]):\n",
    "            continue\n",
    "        if row[3] - last_time < timedelta_downsampling:  # resample: drop <30s\n",
    "            continue\n",
    "        if row[3] - last_time > timedelta_traj_split:\n",
    "            if len(line_buffer) > 1:  # only store length>1 traj\n",
    "                trash = gps_file.write(\"\".join(line_buffer))\n",
    "                traj_counter += 1\n",
    "            line_buffer = []\n",
    "\n",
    "        last_time = row[3]\n",
    "\n",
    "        line_buffer.append(f\"{traj_counter};{row[2]};{row[1]};{row[3]}\\n\")\n",
    "\n",
    "gps_file.close()"
   ]
  },
  {
   "cell_type": "code",
   "execution_count": 3,
   "metadata": {},
   "outputs": [
    {
     "name": "stdout",
     "output_type": "stream",
     "text": [
      "[info][ubodt_gen_app_config.cpp:42 ] Start reading ubodt configuration from arguments\n",
      "[info][ubodt_gen_app_config.cpp:70 ] Finish with reading ubodt arg configuration\n",
      "[info][ubodt_gen_app_config.cpp:74 ] ----    Print configuration   ----\n",
      "[info][network_config.cpp:6  ] NetworkConfig\n",
      "[info][network_config.cpp:7  ] File name: ../data/fmm_data/edges.shp \n",
      "[info][network_config.cpp:8  ] ID name: fid \n",
      "[info][network_config.cpp:9  ] Source name: u \n",
      "[info][network_config.cpp:10 ] Target name: v \n",
      "[info][ubodt_gen_app_config.cpp:76 ] Delta 0.03\n",
      "[info][ubodt_gen_app_config.cpp:77 ] Output file ../data/fmm_data/ubodt.txt\n",
      "[info][ubodt_gen_app_config.cpp:78 ] Log level 2-info\n",
      "[info][ubodt_gen_app_config.cpp:79 ] Use omp true\n",
      "[info][ubodt_gen_app_config.cpp:80 ] ---- Print configuration done ----\n",
      "[info][ubodt_gen_app_config.cpp:97 ] Validating configuration for UBODT construction\n",
      "[warning][ubodt_gen_app_config.cpp:102] Overwrite result file ../data/fmm_data/ubodt.txt\n",
      "[info][ubodt_gen_app_config.cpp:118] Validating done.\n",
      "[info][network.cpp:72 ] Read network from file ../data/fmm_data/edges.shp\n",
      "[info][network.cpp:170] Number of edges 408 nodes 248\n",
      "[info][network.cpp:172] Field index: id 14 source 0 target 1\n",
      "[info][network.cpp:174] Read network done.\n",
      "[info][network_graph.cpp:17 ] Construct graph from network edges start\n",
      "[info][network_graph.cpp:30 ] Graph nodes 248 edges 408\n",
      "[info][network_graph.cpp:31 ] Construct graph from network edges end\n",
      "[info][ubodt_gen_app.cpp:20 ] Write UBODT to file ../data/fmm_data/ubodt.txt\n",
      "[info][ubodt_gen_algorithm.cpp:76 ] Start to generate UBODT with delta 0.03\n",
      "[info][ubodt_gen_algorithm.cpp:77 ] Output format csv\n",
      "[info][ubodt_gen_algorithm.cpp:105] Progress 24 / 248\n",
      "[info][ubodt_gen_algorithm.cpp:105] Progress 48 / 248\n",
      "[info][ubodt_gen_algorithm.cpp:105] Progress 72 / 248\n",
      "[info][ubodt_gen_algorithm.cpp:105] Progress 96 / 248\n",
      "[info][ubodt_gen_algorithm.cpp:105] Progress 120 / 248\n",
      "[info][ubodt_gen_algorithm.cpp:105] Progress 144 / 248\n",
      "[info][ubodt_gen_algorithm.cpp:105] Progress 168 / 248\n",
      "[info][ubodt_gen_algorithm.cpp:105] Progress 192 / 248\n",
      "[info][ubodt_gen_algorithm.cpp:105] Progress 216 / 248\n",
      "[info][ubodt_gen_algorithm.cpp:105] Progress 240 / 248\n",
      "[info][ubodt_gen_app.cpp:30 ] Time takes 0.103\n"
     ]
    },
    {
     "name": "stderr",
     "output_type": "stream",
     "text": [
      "bash: line 1: fg: no job control\n",
      "ERROR 4: Unable to open EPSG support file gcs.csv.  Try setting the GDAL_DATA environment variable to point to the directory containing EPSG csv files.\n"
     ]
    }
   ],
   "source": [
    "# https://github.com/cyang-kth/fmm/issues/166\n",
    "# https://github.com/cyang-kth/fmm/blob/master/example/osmnx_example/README.md\n",
    "\n",
    "os.system(\n",
    "    \"ubodt_gen --network {} --network_id fid --source u --target v --output {} --delta 0.03 --use_omp\"\n",
    "    .format(\n",
    "        os.path.join(DATA_PATH, DATASET, f\"fmm_{DATASET}\", \"edges.shp\"),\n",
    "        os.path.join(DATA_PATH, DATASET, f\"fmm_{DATASET}\", \"ubodt.txt\")))\n",
    "os.system(\n",
    "    \"fmm --ubodt {} --network {} --network_id fid --source u --target v --gps {} --gps_point -k 8 -r 0.003 -e 0.0005 --output {} --use_omp --output_fields id,opath,cpath,mgeom > {} 2>&1\"\n",
    "    .format(\n",
    "        os.path.join(DATA_PATH, DATASET, f\"fmm_{DATASET}\", \"ubodt.txt\"),\n",
    "        os.path.join(DATA_PATH, DATASET, f\"fmm_{DATASET}\", \"edges.shp\"),\n",
    "        os.path.join(DATA_PATH, DATASET, f\"fmm_{DATASET}\", \"gps.csv\"),\n",
    "        os.path.join(DATA_PATH, DATASET, f\"fmm_{DATASET}\", \"mr.txt\"),\n",
    "        os.path.join(DATA_PATH, DATASET, f\"fmm_{DATASET}\", \"fmm.log\")))"
   ]
  }
 ],
 "metadata": {
  "interpreter": {
   "hash": "476fbdcfc7b106bd527dcc3634a7654c2a942349860ebda7174f1fd38664bcc4"
  },
  "kernelspec": {
   "display_name": "Python 3.8.5 64-bit ('dz': conda)",
   "language": "python",
   "name": "python3"
  },
  "language_info": {
   "codemirror_mode": {
    "name": "ipython",
    "version": 3
   },
   "file_extension": ".py",
   "mimetype": "text/x-python",
   "name": "python",
   "nbconvert_exporter": "python",
   "pygments_lexer": "ipython3",
   "version": "3.8.5"
  },
  "orig_nbformat": 4
 },
 "nbformat": 4,
 "nbformat_minor": 2
}

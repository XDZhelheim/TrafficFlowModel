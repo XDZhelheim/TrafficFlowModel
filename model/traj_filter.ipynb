{
 "cells": [
  {
   "cell_type": "code",
   "execution_count": 1,
   "metadata": {},
   "outputs": [
    {
     "data": {
      "text/plain": [
       "'/home/cseadmin/dz/TrafficFlowModel/model'"
      ]
     },
     "execution_count": 1,
     "metadata": {},
     "output_type": "execute_result"
    }
   ],
   "source": [
    "import numpy as np\n",
    "import pandas as pd\n",
    "import os\n",
    "import matplotlib.pyplot as plt\n",
    "from tqdm.notebook import tqdm\n",
    "\n",
    "from IPython.core.interactiveshell import InteractiveShell\n",
    "InteractiveShell.ast_node_interactivity = \"all\"\n",
    "\n",
    "DATA_PATH=\"../data/sz_taxi_202006/\"\n",
    "\n",
    "%pwd"
   ]
  },
  {
   "cell_type": "markdown",
   "metadata": {},
   "source": [
    "bin\n",
    "\n",
    "---"
   ]
  },
  {
   "cell_type": "code",
   "execution_count": 2,
   "metadata": {},
   "outputs": [
    {
     "data": {
      "text/plain": [
       "1751602"
      ]
     },
     "execution_count": 2,
     "metadata": {},
     "output_type": "execute_result"
    },
    {
     "data": {
      "text/plain": [
       "[[198, Timestamp('2020-06-01 00:43:29'), 56.0],\n",
       " [199, Timestamp('2020-06-01 00:43:49'), 55.5],\n",
       " [448, Timestamp('2020-06-01 00:44:09'), 55.0]]"
      ]
     },
     "execution_count": 2,
     "metadata": {},
     "output_type": "execute_result"
    }
   ],
   "source": [
    "traj_list=np.load(\"../data/sz_taxi_202006/sz_taxi_202006_traj_list.npy\", allow_pickle=True)\n",
    "\n",
    "len(traj_list)\n",
    "traj_list[0]"
   ]
  },
  {
   "cell_type": "code",
   "execution_count": 3,
   "metadata": {},
   "outputs": [
    {
     "data": {
      "text/plain": [
       "[88134,\n",
       " 79532,\n",
       " 62254,\n",
       " 47490,\n",
       " 35925,\n",
       " 32507,\n",
       " 44365,\n",
       " 81156,\n",
       " 103175,\n",
       " 102504,\n",
       " 100915,\n",
       " 95067,\n",
       " 78162,\n",
       " 81304,\n",
       " 93555,\n",
       " 89696,\n",
       " 76454,\n",
       " 72476,\n",
       " 85763,\n",
       " 86100,\n",
       " 76114,\n",
       " 64580,\n",
       " 47119,\n",
       " 27255]"
      ]
     },
     "execution_count": 3,
     "metadata": {},
     "output_type": "execute_result"
    }
   ],
   "source": [
    "traj_list_bin_24=[[] for _ in range(24)]\n",
    "\n",
    "for traj in traj_list:\n",
    "    traj_list_bin_24[traj[0][1].hour].append(traj)\n",
    "    \n",
    "list(map(len, traj_list_bin_24))"
   ]
  },
  {
   "cell_type": "code",
   "execution_count": 6,
   "metadata": {},
   "outputs": [
    {
     "name": "stderr",
     "output_type": "stream",
     "text": [
      "/home/cseadmin/dz/anaconda3/envs/torch1.11/lib/python3.8/site-packages/numpy/lib/npyio.py:528: VisibleDeprecationWarning: Creating an ndarray from ragged nested sequences (which is a list-or-tuple of lists-or-tuples-or ndarrays with different lengths or shapes) is deprecated. If you meant to do this, you must specify 'dtype=object' when creating the ndarray.\n",
      "  arr = np.asanyarray(arr)\n"
     ]
    }
   ],
   "source": [
    "np.save(\"../data/sz_taxi_202006/sz_taxi_202006_traj_list_bin_24.npy\", traj_list_bin_24, allow_pickle=True)"
   ]
  },
  {
   "cell_type": "markdown",
   "metadata": {},
   "source": [
    "sample\n",
    "\n",
    "---"
   ]
  },
  {
   "cell_type": "code",
   "execution_count": 2,
   "metadata": {},
   "outputs": [
    {
     "data": {
      "text/plain": [
       "[88134,\n",
       " 79532,\n",
       " 62254,\n",
       " 47490,\n",
       " 35925,\n",
       " 32507,\n",
       " 44365,\n",
       " 81156,\n",
       " 103175,\n",
       " 102504,\n",
       " 100915,\n",
       " 95067,\n",
       " 78162,\n",
       " 81304,\n",
       " 93555,\n",
       " 89696,\n",
       " 76454,\n",
       " 72476,\n",
       " 85763,\n",
       " 86100,\n",
       " 76114,\n",
       " 64580,\n",
       " 47119,\n",
       " 27255]"
      ]
     },
     "execution_count": 2,
     "metadata": {},
     "output_type": "execute_result"
    },
    {
     "data": {
      "text/plain": [
       "1751602"
      ]
     },
     "execution_count": 2,
     "metadata": {},
     "output_type": "execute_result"
    }
   ],
   "source": [
    "traj_list_bin_24=np.load(\"../data/sz_taxi_202006/sz_taxi_202006_traj_list_bin_24.npy\", allow_pickle=True)\n",
    "\n",
    "list(map(len, traj_list_bin_24))\n",
    "sum(list(map(len, traj_list_bin_24)))"
   ]
  },
  {
   "cell_type": "code",
   "execution_count": 3,
   "metadata": {},
   "outputs": [
    {
     "data": {
      "text/plain": [
       "[64383,\n",
       " 57880,\n",
       " 46043,\n",
       " 35490,\n",
       " 26735,\n",
       " 23549,\n",
       " 29543,\n",
       " 58320,\n",
       " 84280,\n",
       " 81301,\n",
       " 78094,\n",
       " 74879,\n",
       " 61190,\n",
       " 64620,\n",
       " 74534,\n",
       " 70934,\n",
       " 60549,\n",
       " 57903,\n",
       " 68221,\n",
       " 68197,\n",
       " 59359,\n",
       " 49862,\n",
       " 35746,\n",
       " 20088]"
      ]
     },
     "execution_count": 3,
     "metadata": {},
     "output_type": "execute_result"
    },
    {
     "data": {
      "text/plain": [
       "1351700"
      ]
     },
     "execution_count": 3,
     "metadata": {},
     "output_type": "execute_result"
    }
   ],
   "source": [
    "traj_list_bin_24_seqlen=[[] for _ in range(24)]\n",
    "\n",
    "seq_len=5\n",
    "for i in range(len(traj_list_bin_24)):\n",
    "    for traj in traj_list_bin_24[i]:\n",
    "        if len(traj)>=seq_len+1:\n",
    "            traj_list_bin_24_seqlen[i].append(traj)\n",
    "    \n",
    "list(map(len, traj_list_bin_24_seqlen))\n",
    "sum(list(map(len, traj_list_bin_24_seqlen)))"
   ]
  },
  {
   "cell_type": "code",
   "execution_count": 10,
   "metadata": {},
   "outputs": [
    {
     "name": "stderr",
     "output_type": "stream",
     "text": [
      "/tmp/ipykernel_15958/2079389433.py:2: VisibleDeprecationWarning: Creating an ndarray from ragged nested sequences (which is a list-or-tuple of lists-or-tuples-or ndarrays with different lengths or shapes) is deprecated. If you meant to do this, you must specify 'dtype=object' when creating the ndarray.\n",
      "  traj_list_bin_24_sampled=list(map(lambda bin: np.random.choice(bin, size=int(p*len(bin)), replace=False), traj_list_bin_24_seqlen))\n"
     ]
    },
    {
     "data": {
      "text/plain": [
       "[51506,\n",
       " 46304,\n",
       " 36834,\n",
       " 28392,\n",
       " 21388,\n",
       " 18839,\n",
       " 23634,\n",
       " 46656,\n",
       " 67424,\n",
       " 65040,\n",
       " 62475,\n",
       " 59903,\n",
       " 48952,\n",
       " 51696,\n",
       " 59627,\n",
       " 56747,\n",
       " 48439,\n",
       " 46322,\n",
       " 54576,\n",
       " 54557,\n",
       " 47487,\n",
       " 39889,\n",
       " 28596,\n",
       " 16070]"
      ]
     },
     "execution_count": 10,
     "metadata": {},
     "output_type": "execute_result"
    },
    {
     "data": {
      "text/plain": [
       "1081353"
      ]
     },
     "execution_count": 10,
     "metadata": {},
     "output_type": "execute_result"
    },
    {
     "data": {
      "text/plain": [
       "0.7999948213360953"
      ]
     },
     "execution_count": 10,
     "metadata": {},
     "output_type": "execute_result"
    }
   ],
   "source": [
    "p=0.8\n",
    "traj_list_bin_24_sampled=list(map(lambda bin: np.random.choice(bin, size=int(p*len(bin)), replace=False), traj_list_bin_24_seqlen))\n",
    "\n",
    "list(map(len, traj_list_bin_24_sampled))\n",
    "sum(list(map(len, traj_list_bin_24_sampled)))\n",
    "sum(list(map(len, traj_list_bin_24_sampled)))/sum(list(map(len, traj_list_bin_24_seqlen)))"
   ]
  },
  {
   "cell_type": "code",
   "execution_count": 11,
   "metadata": {},
   "outputs": [],
   "source": [
    "np.save(f\"../data/sz_taxi_202006/sz_taxi_202006_traj_list_bin_24_sampled_{p}.npy\", traj_list_bin_24_sampled, allow_pickle=True)"
   ]
  },
  {
   "cell_type": "markdown",
   "metadata": {},
   "source": [
    "to road_id list\n",
    "\n",
    "---"
   ]
  },
  {
   "cell_type": "code",
   "execution_count": 11,
   "metadata": {},
   "outputs": [
    {
     "data": {
      "text/plain": [
       "135161"
      ]
     },
     "execution_count": 11,
     "metadata": {},
     "output_type": "execute_result"
    }
   ],
   "source": [
    "p=0.1\n",
    "traj_list_bin_24_sampled=np.load(f\"../data/sz_taxi_202006/sz_taxi_202006_traj_list_bin_24_sampled_{p}.npy\", allow_pickle=True)\n",
    "\n",
    "sum(list(map(len, traj_list_bin_24_sampled)))"
   ]
  },
  {
   "cell_type": "code",
   "execution_count": 12,
   "metadata": {},
   "outputs": [
    {
     "data": {
      "text/plain": [
       "(array([3.84519e+05, 2.11275e+05, 1.56275e+05, 1.08332e+05, 7.28520e+04,\n",
       "        4.79370e+04, 3.21410e+04, 2.10800e+04, 1.42680e+04, 9.86600e+03,\n",
       "        6.62500e+03, 4.66800e+03, 3.29800e+03, 2.32000e+03, 1.73000e+03,\n",
       "        1.15600e+03, 9.79000e+02, 5.54000e+02, 4.14000e+02, 2.83000e+02,\n",
       "        1.88000e+02, 1.54000e+02, 1.25000e+02, 8.50000e+01, 5.70000e+01,\n",
       "        5.30000e+01, 3.20000e+01, 2.50000e+01, 1.50000e+01, 1.00000e+01,\n",
       "        6.00000e+00, 9.00000e+00, 4.00000e+00, 6.00000e+00, 4.00000e+00,\n",
       "        0.00000e+00, 1.00000e+00, 1.00000e+00, 0.00000e+00, 0.00000e+00,\n",
       "        2.00000e+00, 0.00000e+00, 2.00000e+00, 0.00000e+00, 0.00000e+00,\n",
       "        0.00000e+00, 1.00000e+00, 0.00000e+00, 0.00000e+00, 1.00000e+00]),\n",
       " array([  6.  ,  11.06,  16.12,  21.18,  26.24,  31.3 ,  36.36,  41.42,\n",
       "         46.48,  51.54,  56.6 ,  61.66,  66.72,  71.78,  76.84,  81.9 ,\n",
       "         86.96,  92.02,  97.08, 102.14, 107.2 , 112.26, 117.32, 122.38,\n",
       "        127.44, 132.5 , 137.56, 142.62, 147.68, 152.74, 157.8 , 162.86,\n",
       "        167.92, 172.98, 178.04, 183.1 , 188.16, 193.22, 198.28, 203.34,\n",
       "        208.4 , 213.46, 218.52, 223.58, 228.64, 233.7 , 238.76, 243.82,\n",
       "        248.88, 253.94, 259.  ]),\n",
       " <BarContainer object of 50 artists>)"
      ]
     },
     "execution_count": 12,
     "metadata": {},
     "output_type": "execute_result"
    },
    {
     "data": {
      "image/png": "[encoded data removed]",
      "text/plain": [
       "<Figure size 432x288 with 1 Axes>"
      ]
     },
     "metadata": {
      "needs_background": "light"
     },
     "output_type": "display_data"
    }
   ],
   "source": [
    "len_list=[]\n",
    "for bin in traj_list_bin_24_sampled:\n",
    "    for traj in bin:\n",
    "        len_list.append(len(traj))\n",
    "    \n",
    "len_list=np.array(len_list)\n",
    "plt.hist(len_list, bins=50)\n",
    "plt.show()"
   ]
  },
  {
   "cell_type": "code",
   "execution_count": 13,
   "metadata": {},
   "outputs": [
    {
     "data": {
      "text/plain": [
       "1076886"
      ]
     },
     "execution_count": 13,
     "metadata": {},
     "output_type": "execute_result"
    }
   ],
   "source": [
    "traj_list_all=[]\n",
    "len_max=80\n",
    "\n",
    "for bin in traj_list_bin_24_sampled:\n",
    "    for traj in bin:\n",
    "        if len(traj)>len_max:\n",
    "            continue\n",
    "        road_ids=[]\n",
    "        for point in traj:\n",
    "            road_ids.append(point[0])\n",
    "        traj_list_all.append(road_ids)\n",
    "\n",
    "len(traj_list_all)"
   ]
  },
  {
   "cell_type": "code",
   "execution_count": 14,
   "metadata": {},
   "outputs": [
    {
     "name": "stderr",
     "output_type": "stream",
     "text": [
      "/home/cseadmin/dz/anaconda3/envs/torch1.11/lib/python3.8/site-packages/numpy/lib/npyio.py:528: VisibleDeprecationWarning: Creating an ndarray from ragged nested sequences (which is a list-or-tuple of lists-or-tuples-or ndarrays with different lengths or shapes) is deprecated. If you meant to do this, you must specify 'dtype=object' when creating the ndarray.\n",
      "  arr = np.asanyarray(arr)\n"
     ]
    }
   ],
   "source": [
    "np.save(f\"../data/sz_taxi_202006/sz_taxi_202006_traj_list_bin_24_sampled_{p}_flatten_id.npy\", traj_list_all)"
   ]
  }
 ],
 "metadata": {
  "interpreter": {
   "hash": "6c06479978a9afb049dacef30f4b37fb04e7a2dfd65fe1755a86e45fec2f65ba"
  },
  "kernelspec": {
   "display_name": "Python 3.7.11 ('torch1.7')",
   "language": "python",
   "name": "python3"
  },
  "language_info": {
   "codemirror_mode": {
    "name": "ipython",
    "version": 3
   },
   "file_extension": ".py",
   "mimetype": "text/x-python",
   "name": "python",
   "nbconvert_exporter": "python",
   "pygments_lexer": "ipython3",
   "version": "3.8.13"
  },
  "orig_nbformat": 4
 },
 "nbformat": 4,
 "nbformat_minor": 2
}

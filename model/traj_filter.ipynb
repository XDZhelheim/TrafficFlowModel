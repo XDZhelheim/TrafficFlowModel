{
 "cells": [
  {
   "cell_type": "code",
   "execution_count": 1,
   "metadata": {},
   "outputs": [
    {
     "data": {
      "text/plain": [
       "'/home/cseadmin/dz/TrafficFlowModel/model'"
      ]
     },
     "execution_count": 1,
     "metadata": {},
     "output_type": "execute_result"
    }
   ],
   "source": [
    "import numpy as np\n",
    "import pandas as pd\n",
    "import os\n",
    "import matplotlib.pyplot as plt\n",
    "from tqdm.notebook import tqdm\n",
    "\n",
    "from IPython.core.interactiveshell import InteractiveShell\n",
    "InteractiveShell.ast_node_interactivity = \"all\"\n",
    "\n",
    "DATA_PATH=\"../data/sz_taxi_202006/\"\n",
    "\n",
    "%pwd"
   ]
  },
  {
   "cell_type": "markdown",
   "metadata": {},
   "source": [
    "bin\n",
    "\n",
    "---"
   ]
  },
  {
   "cell_type": "code",
   "execution_count": 2,
   "metadata": {},
   "outputs": [
    {
     "data": {
      "text/plain": [
       "1751602"
      ]
     },
     "execution_count": 2,
     "metadata": {},
     "output_type": "execute_result"
    },
    {
     "data": {
      "text/plain": [
       "[[198, Timestamp('2020-06-01 00:43:29'), 56.0],\n",
       " [199, Timestamp('2020-06-01 00:43:49'), 55.5],\n",
       " [448, Timestamp('2020-06-01 00:44:09'), 55.0]]"
      ]
     },
     "execution_count": 2,
     "metadata": {},
     "output_type": "execute_result"
    }
   ],
   "source": [
    "traj_list=np.load(\"../data/sz_taxi_202006/sz_taxi_202006_traj_list.npy\", allow_pickle=True)\n",
    "\n",
    "len(traj_list)\n",
    "traj_list[0]"
   ]
  },
  {
   "cell_type": "code",
   "execution_count": 3,
   "metadata": {},
   "outputs": [
    {
     "data": {
      "text/plain": [
       "[88134,\n",
       " 79532,\n",
       " 62254,\n",
       " 47490,\n",
       " 35925,\n",
       " 32507,\n",
       " 44365,\n",
       " 81156,\n",
       " 103175,\n",
       " 102504,\n",
       " 100915,\n",
       " 95067,\n",
       " 78162,\n",
       " 81304,\n",
       " 93555,\n",
       " 89696,\n",
       " 76454,\n",
       " 72476,\n",
       " 85763,\n",
       " 86100,\n",
       " 76114,\n",
       " 64580,\n",
       " 47119,\n",
       " 27255]"
      ]
     },
     "execution_count": 3,
     "metadata": {},
     "output_type": "execute_result"
    }
   ],
   "source": [
    "traj_list_bin_24=[[] for _ in range(24)]\n",
    "\n",
    "for traj in traj_list:\n",
    "    traj_list_bin_24[traj[0][1].hour].append(traj)\n",
    "    \n",
    "list(map(len, traj_list_bin_24))"
   ]
  },
  {
   "cell_type": "code",
   "execution_count": 6,
   "metadata": {},
   "outputs": [
    {
     "name": "stderr",
     "output_type": "stream",
     "text": [
      "/home/cseadmin/dz/anaconda3/envs/torch1.11/lib/python3.8/site-packages/numpy/lib/npyio.py:528: VisibleDeprecationWarning: Creating an ndarray from ragged nested sequences (which is a list-or-tuple of lists-or-tuples-or ndarrays with different lengths or shapes) is deprecated. If you meant to do this, you must specify 'dtype=object' when creating the ndarray.\n",
      "  arr = np.asanyarray(arr)\n"
     ]
    }
   ],
   "source": [
    "np.save(\"../data/sz_taxi_202006/sz_taxi_202006_traj_list_bin_24.npy\", traj_list_bin_24, allow_pickle=True)"
   ]
  },
  {
   "cell_type": "markdown",
   "metadata": {},
   "source": [
    "sample\n",
    "\n",
    "---"
   ]
  },
  {
   "cell_type": "code",
   "execution_count": 2,
   "metadata": {},
   "outputs": [
    {
     "data": {
      "text/plain": [
       "[88134,\n",
       " 79532,\n",
       " 62254,\n",
       " 47490,\n",
       " 35925,\n",
       " 32507,\n",
       " 44365,\n",
       " 81156,\n",
       " 103175,\n",
       " 102504,\n",
       " 100915,\n",
       " 95067,\n",
       " 78162,\n",
       " 81304,\n",
       " 93555,\n",
       " 89696,\n",
       " 76454,\n",
       " 72476,\n",
       " 85763,\n",
       " 86100,\n",
       " 76114,\n",
       " 64580,\n",
       " 47119,\n",
       " 27255]"
      ]
     },
     "execution_count": 2,
     "metadata": {},
     "output_type": "execute_result"
    },
    {
     "data": {
      "text/plain": [
       "1751602"
      ]
     },
     "execution_count": 2,
     "metadata": {},
     "output_type": "execute_result"
    }
   ],
   "source": [
    "traj_list_bin_24=np.load(\"../data/sz_taxi_202006/sz_taxi_202006_traj_list_bin_24.npy\", allow_pickle=True)\n",
    "\n",
    "list(map(len, traj_list_bin_24))\n",
    "sum(list(map(len, traj_list_bin_24)))"
   ]
  },
  {
   "cell_type": "code",
   "execution_count": 3,
   "metadata": {},
   "outputs": [
    {
     "data": {
      "text/plain": [
       "[64383,\n",
       " 57880,\n",
       " 46043,\n",
       " 35490,\n",
       " 26735,\n",
       " 23549,\n",
       " 29543,\n",
       " 58320,\n",
       " 84280,\n",
       " 81301,\n",
       " 78094,\n",
       " 74879,\n",
       " 61190,\n",
       " 64620,\n",
       " 74534,\n",
       " 70934,\n",
       " 60549,\n",
       " 57903,\n",
       " 68221,\n",
       " 68197,\n",
       " 59359,\n",
       " 49862,\n",
       " 35746,\n",
       " 20088]"
      ]
     },
     "execution_count": 3,
     "metadata": {},
     "output_type": "execute_result"
    },
    {
     "data": {
      "text/plain": [
       "1351700"
      ]
     },
     "execution_count": 3,
     "metadata": {},
     "output_type": "execute_result"
    }
   ],
   "source": [
    "traj_list_bin_24_seqlen=[[] for _ in range(24)]\n",
    "\n",
    "seq_len=5\n",
    "for i in range(len(traj_list_bin_24)):\n",
    "    for traj in traj_list_bin_24[i]:\n",
    "        if len(traj)>=seq_len+1:\n",
    "            traj_list_bin_24_seqlen[i].append(traj)\n",
    "    \n",
    "list(map(len, traj_list_bin_24_seqlen))\n",
    "sum(list(map(len, traj_list_bin_24_seqlen)))"
   ]
  },
  {
   "cell_type": "code",
   "execution_count": 6,
   "metadata": {},
   "outputs": [
    {
     "name": "stderr",
     "output_type": "stream",
     "text": [
      "/tmp/ipykernel_52285/3078606262.py:2: VisibleDeprecationWarning: Creating an ndarray from ragged nested sequences (which is a list-or-tuple of lists-or-tuples-or ndarrays with different lengths or shapes) is deprecated. If you meant to do this, you must specify 'dtype=object' when creating the ndarray.\n",
      "  traj_list_bin_24_sampled=list(map(lambda bin: np.random.choice(bin, size=int(p*len(bin)), replace=False), traj_list_bin_24_seqlen))\n"
     ]
    },
    {
     "data": {
      "text/plain": [
       "[3219,\n",
       " 2894,\n",
       " 2302,\n",
       " 1774,\n",
       " 1336,\n",
       " 1177,\n",
       " 1477,\n",
       " 2916,\n",
       " 4214,\n",
       " 4065,\n",
       " 3904,\n",
       " 3743,\n",
       " 3059,\n",
       " 3231,\n",
       " 3726,\n",
       " 3546,\n",
       " 3027,\n",
       " 2895,\n",
       " 3411,\n",
       " 3409,\n",
       " 2967,\n",
       " 2493,\n",
       " 1787,\n",
       " 1004]"
      ]
     },
     "execution_count": 6,
     "metadata": {},
     "output_type": "execute_result"
    },
    {
     "data": {
      "text/plain": [
       "67576"
      ]
     },
     "execution_count": 6,
     "metadata": {},
     "output_type": "execute_result"
    },
    {
     "data": {
      "text/plain": [
       "0.0499933417178368"
      ]
     },
     "execution_count": 6,
     "metadata": {},
     "output_type": "execute_result"
    }
   ],
   "source": [
    "p=0.05\n",
    "traj_list_bin_24_sampled=list(map(lambda bin: np.random.choice(bin, size=int(p*len(bin)), replace=False), traj_list_bin_24_seqlen))\n",
    "\n",
    "list(map(len, traj_list_bin_24_sampled))\n",
    "sum(list(map(len, traj_list_bin_24_sampled)))\n",
    "sum(list(map(len, traj_list_bin_24_sampled)))/sum(list(map(len, traj_list_bin_24_seqlen)))"
   ]
  },
  {
   "cell_type": "code",
   "execution_count": 7,
   "metadata": {},
   "outputs": [],
   "source": [
    "np.save(f\"../data/sz_taxi_202006/sz_taxi_202006_traj_list_bin_24_sampled_{p}.npy\", traj_list_bin_24_sampled, allow_pickle=True)"
   ]
  },
  {
   "cell_type": "markdown",
   "metadata": {},
   "source": [
    "to road_id list\n",
    "\n",
    "---"
   ]
  },
  {
   "cell_type": "code",
   "execution_count": 11,
   "metadata": {},
   "outputs": [
    {
     "data": {
      "text/plain": [
       "135161"
      ]
     },
     "execution_count": 11,
     "metadata": {},
     "output_type": "execute_result"
    }
   ],
   "source": [
    "p=0.1\n",
    "traj_list_bin_24_sampled=np.load(f\"../data/sz_taxi_202006/sz_taxi_202006_traj_list_bin_24_sampled_{p}.npy\", allow_pickle=True)\n",
    "\n",
    "sum(list(map(len, traj_list_bin_24_sampled)))"
   ]
  },
  {
   "cell_type": "code",
   "execution_count": null,
   "metadata": {},
   "outputs": [
    {
     "data": {
      "text/plain": [
       "(array([6.9326e+04, 4.9166e+04, 3.9382e+04, 2.3159e+04, 2.4327e+04,\n",
       "        1.8026e+04, 1.2843e+04, 7.1250e+03, 7.1710e+03, 5.1250e+03,\n",
       "        3.6830e+03, 2.1900e+03, 2.1740e+03, 1.5990e+03, 1.2500e+03,\n",
       "        6.6400e+02, 7.1300e+02, 5.6100e+02, 4.2700e+02, 2.7100e+02,\n",
       "        2.6100e+02, 1.9200e+02, 1.6200e+02, 9.9000e+01, 1.0600e+02,\n",
       "        7.9000e+01, 5.0000e+01, 4.1000e+01, 3.4000e+01, 2.9000e+01,\n",
       "        1.1000e+01, 1.8000e+01, 1.8000e+01, 1.0000e+01, 9.0000e+00,\n",
       "        5.0000e+00, 3.0000e+00, 5.0000e+00, 3.0000e+00, 3.0000e+00,\n",
       "        2.0000e+00, 2.0000e+00, 3.0000e+00, 0.0000e+00, 1.0000e+00,\n",
       "        1.0000e+00, 0.0000e+00, 0.0000e+00, 0.0000e+00, 1.0000e+00]),\n",
       " array([  6.  ,   9.74,  13.48,  17.22,  20.96,  24.7 ,  28.44,  32.18,\n",
       "         35.92,  39.66,  43.4 ,  47.14,  50.88,  54.62,  58.36,  62.1 ,\n",
       "         65.84,  69.58,  73.32,  77.06,  80.8 ,  84.54,  88.28,  92.02,\n",
       "         95.76,  99.5 , 103.24, 106.98, 110.72, 114.46, 118.2 , 121.94,\n",
       "        125.68, 129.42, 133.16, 136.9 , 140.64, 144.38, 148.12, 151.86,\n",
       "        155.6 , 159.34, 163.08, 166.82, 170.56, 174.3 , 178.04, 181.78,\n",
       "        185.52, 189.26, 193.  ]),\n",
       " <BarContainer object of 50 artists>)"
      ]
     },
     "metadata": {},
     "output_type": "display_data"
    },
    {
     "data": {
      "image/png": "[encoded data removed]",
      "text/plain": [
       "<Figure size 432x288 with 1 Axes>"
      ]
     },
     "metadata": {},
     "output_type": "display_data"
    }
   ],
   "source": [
    "len_list=[]\n",
    "for bin in traj_list_bin_24_sampled:\n",
    "    for traj in bin:\n",
    "        len_list.append(len(traj))\n",
    "    \n",
    "len_list=np.array(len_list)\n",
    "plt.hist(len_list, bins=50)\n",
    "plt.show()"
   ]
  },
  {
   "cell_type": "code",
   "execution_count": 12,
   "metadata": {},
   "outputs": [
    {
     "data": {
      "text/plain": [
       "135161"
      ]
     },
     "execution_count": 12,
     "metadata": {},
     "output_type": "execute_result"
    }
   ],
   "source": [
    "traj_list_all=[]\n",
    "\n",
    "for bin in traj_list_bin_24_sampled:\n",
    "    for traj in bin:\n",
    "        road_ids=[]\n",
    "        for point in traj:\n",
    "            road_ids.append(point[0])\n",
    "        traj_list_all.append(road_ids)\n",
    "\n",
    "len(traj_list_all)"
   ]
  },
  {
   "cell_type": "code",
   "execution_count": 13,
   "metadata": {},
   "outputs": [
    {
     "name": "stderr",
     "output_type": "stream",
     "text": [
      "/home/cseadmin/dz/anaconda3/envs/torch1.11/lib/python3.8/site-packages/numpy/lib/npyio.py:528: VisibleDeprecationWarning: Creating an ndarray from ragged nested sequences (which is a list-or-tuple of lists-or-tuples-or ndarrays with different lengths or shapes) is deprecated. If you meant to do this, you must specify 'dtype=object' when creating the ndarray.\n",
      "  arr = np.asanyarray(arr)\n"
     ]
    }
   ],
   "source": [
    "np.save(f\"../data/sz_taxi_202006/sz_taxi_202006_traj_list_bin_24_sampled_{p}_flatten_id.npy\", traj_list_all)"
   ]
  }
 ],
 "metadata": {
  "interpreter": {
   "hash": "6c06479978a9afb049dacef30f4b37fb04e7a2dfd65fe1755a86e45fec2f65ba"
  },
  "kernelspec": {
   "display_name": "Python 3.7.11 ('torch1.7')",
   "language": "python",
   "name": "python3"
  },
  "language_info": {
   "codemirror_mode": {
    "name": "ipython",
    "version": 3
   },
   "file_extension": ".py",
   "mimetype": "text/x-python",
   "name": "python",
   "nbconvert_exporter": "python",
   "pygments_lexer": "ipython3",
   "version": "3.8.13"
  },
  "orig_nbformat": 4
 },
 "nbformat": 4,
 "nbformat_minor": 2
}

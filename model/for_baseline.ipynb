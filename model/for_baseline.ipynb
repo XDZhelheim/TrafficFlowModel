{
 "cells": [
  {
   "cell_type": "code",
   "execution_count": 1,
   "metadata": {},
   "outputs": [
    {
     "data": {
      "text/plain": [
       "'/home/cseadmin/dz/TrafficFlowModel/model'"
      ]
     },
     "execution_count": 1,
     "metadata": {},
     "output_type": "execute_result"
    }
   ],
   "source": [
    "import numpy as np\n",
    "import pandas as pd\n",
    "import os\n",
    "\n",
    "from IPython.core.interactiveshell import InteractiveShell\n",
    "InteractiveShell.ast_node_interactivity = \"all\"\n",
    "\n",
    "%pwd"
   ]
  },
  {
   "cell_type": "code",
   "execution_count": 2,
   "metadata": {},
   "outputs": [
    {
     "data": {
      "text/plain": [
       "(492, 64)"
      ]
     },
     "execution_count": 2,
     "metadata": {},
     "output_type": "execute_result"
    }
   ],
   "source": [
    "embed_matrix=np.load(\"./saved/embedding_matrix.npy\")\n",
    "\n",
    "embed_matrix.shape"
   ]
  },
  {
   "cell_type": "code",
   "execution_count": 3,
   "metadata": {},
   "outputs": [
    {
     "data": {
      "text/plain": [
       "(492, 492)"
      ]
     },
     "execution_count": 3,
     "metadata": {},
     "output_type": "execute_result"
    }
   ],
   "source": [
    "cor_matrix=embed_matrix @ embed_matrix.T\n",
    "\n",
    "cor_matrix.shape"
   ]
  },
  {
   "cell_type": "code",
   "execution_count": 4,
   "metadata": {},
   "outputs": [
    {
     "data": {
      "text/plain": [
       "array([[72.30105  , -0.386034 , 12.120458 , ..., -5.0983267, 10.383698 ,\n",
       "         0.       ],\n",
       "       [-0.386034 , 73.07714  , -8.034481 , ..., -3.3336499,  6.7834587,\n",
       "         0.       ],\n",
       "       [12.120458 , -8.034481 , 70.43657  , ..., -6.648742 ,  6.468872 ,\n",
       "         0.       ],\n",
       "       ...,\n",
       "       [-5.0983267, -3.3336499, -6.648742 , ..., 76.912605 ,  2.3218575,\n",
       "         0.       ],\n",
       "       [10.383698 ,  6.7834587,  6.468872 , ...,  2.3218575, 77.01283  ,\n",
       "         0.       ],\n",
       "       [ 0.       ,  0.       ,  0.       , ...,  0.       ,  0.       ,\n",
       "         0.       ]], dtype=float32)"
      ]
     },
     "execution_count": 4,
     "metadata": {},
     "output_type": "execute_result"
    }
   ],
   "source": [
    "cor_matrix"
   ]
  },
  {
   "cell_type": "code",
   "execution_count": 15,
   "metadata": {},
   "outputs": [
    {
     "name": "stderr",
     "output_type": "stream",
     "text": [
      "/home/cseadmin/dz/anaconda3/envs/torch1.7/lib/python3.7/site-packages/ipykernel_launcher.py:2: RuntimeWarning: invalid value encountered in true_divide\n",
      "  \n"
     ]
    },
    {
     "data": {
      "text/plain": [
       "array([[ 0.18448809,  0.00974219,  0.01123869, ...,  0.00293595,\n",
       "         0.00094138,  0.        ],\n",
       "       [ 0.01159629,  0.20665924,  0.04856317, ...,  0.02418181,\n",
       "         0.01470489,  0.        ],\n",
       "       [ 0.00733121,  0.02661366,  0.10077152, ...,  0.010441  ,\n",
       "        -0.00537754,  0.        ],\n",
       "       ...,\n",
       "       [ 0.00251128,  0.01737695,  0.01369081, ...,  0.13979769,\n",
       "         0.00495891,  0.        ],\n",
       "       [ 0.00074642,  0.00979532, -0.00653646, ...,  0.00459683,\n",
       "         0.12951389,  0.        ],\n",
       "       [ 0.        ,  0.        ,  0.        , ...,  0.        ,\n",
       "         0.        ,  0.        ]], dtype=float32)"
      ]
     },
     "execution_count": 15,
     "metadata": {},
     "output_type": "execute_result"
    }
   ],
   "source": [
    "# sum_of_rows=cor_matrix.sum(axis=1)\n",
    "# cor_matrix/=sum_of_rows[:, np.newaxis]\n",
    "# np.nan_to_num(cor_matrix, copy=False)"
   ]
  },
  {
   "cell_type": "code",
   "execution_count": 5,
   "metadata": {},
   "outputs": [],
   "source": [
    "np.save(\"../../DL-Traff-Graph/SZTAXI/cor_matrix.npy\", cor_matrix, allow_pickle=True)"
   ]
  },
  {
   "cell_type": "markdown",
   "metadata": {},
   "source": [
    "---"
   ]
  },
  {
   "cell_type": "code",
   "execution_count": 52,
   "metadata": {},
   "outputs": [
    {
     "data": {
      "text/plain": [
       "array([[398, 106, 105,   0],\n",
       "       [ 84, 401,  29,   1],\n",
       "       [144, 127, 192,   2],\n",
       "       ...,\n",
       "       [208, 224, 169, 489],\n",
       "       [425, 468, 243, 490],\n",
       "       [156, 155, 153, 491]])"
      ]
     },
     "execution_count": 52,
     "metadata": {},
     "output_type": "execute_result"
    }
   ],
   "source": [
    "# k=4\n",
    "# idx = np.argsort(cor_matrix, axis=1)[:,-k:]\n",
    "# idx"
   ]
  },
  {
   "cell_type": "code",
   "execution_count": 53,
   "metadata": {},
   "outputs": [
    {
     "data": {
      "text/plain": [
       "array([[1., 0., 0., ..., 0., 0., 0.],\n",
       "       [0., 1., 0., ..., 0., 0., 0.],\n",
       "       [0., 0., 1., ..., 0., 0., 0.],\n",
       "       ...,\n",
       "       [0., 0., 0., ..., 1., 0., 0.],\n",
       "       [0., 0., 0., ..., 0., 1., 0.],\n",
       "       [0., 0., 0., ..., 0., 0., 1.]])"
      ]
     },
     "execution_count": 53,
     "metadata": {},
     "output_type": "execute_result"
    }
   ],
   "source": [
    "# knn_adj=np.zeros((492, 492))\n",
    "# for i in range(len(idx)):\n",
    "#     knn_adj[i][idx[i]]=1\n",
    "    \n",
    "# knn_adj"
   ]
  },
  {
   "cell_type": "code",
   "execution_count": 54,
   "metadata": {},
   "outputs": [],
   "source": [
    "# np.save(f\"../../DL-Traff-Graph/SZTAXI/adj_{k}.npy\", knn_adj, allow_pickle=True)"
   ]
  },
  {
   "cell_type": "code",
   "execution_count": null,
   "metadata": {},
   "outputs": [],
   "source": [
    "for k in range(1, 21):\n",
    "    idx = np.argsort(cor_matrix, axis=1)[:,-k:]\n",
    "    knn_adj=np.zeros((492, 492))\n",
    "    for i in range(len(idx)):\n",
    "        knn_adj[i][idx[i]]=1\n",
    "    np.save(f\"../../DL-Traff-Graph/SZTAXI/adj_{k}.npy\", knn_adj, allow_pickle=True)"
   ]
  },
  {
   "cell_type": "markdown",
   "metadata": {},
   "source": [
    "---"
   ]
  },
  {
   "cell_type": "code",
   "execution_count": 29,
   "metadata": {},
   "outputs": [
    {
     "data": {
      "text/html": [
       "<div>\n",
       "<style scoped>\n",
       "    .dataframe tbody tr th:only-of-type {\n",
       "        vertical-align: middle;\n",
       "    }\n",
       "\n",
       "    .dataframe tbody tr th {\n",
       "        vertical-align: top;\n",
       "    }\n",
       "\n",
       "    .dataframe thead th {\n",
       "        text-align: right;\n",
       "    }\n",
       "</style>\n",
       "<table border=\"1\" class=\"dataframe\">\n",
       "  <thead>\n",
       "    <tr style=\"text-align: right;\">\n",
       "      <th></th>\n",
       "      <th>rel_id</th>\n",
       "      <th>type</th>\n",
       "      <th>origin_id</th>\n",
       "      <th>destination_id</th>\n",
       "    </tr>\n",
       "  </thead>\n",
       "  <tbody>\n",
       "    <tr>\n",
       "      <th>0</th>\n",
       "      <td>0</td>\n",
       "      <td>geo</td>\n",
       "      <td>0</td>\n",
       "      <td>70</td>\n",
       "    </tr>\n",
       "    <tr>\n",
       "      <th>1</th>\n",
       "      <td>1</td>\n",
       "      <td>geo</td>\n",
       "      <td>0</td>\n",
       "      <td>246</td>\n",
       "    </tr>\n",
       "    <tr>\n",
       "      <th>2</th>\n",
       "      <td>2</td>\n",
       "      <td>geo</td>\n",
       "      <td>0</td>\n",
       "      <td>252</td>\n",
       "    </tr>\n",
       "    <tr>\n",
       "      <th>3</th>\n",
       "      <td>3</td>\n",
       "      <td>geo</td>\n",
       "      <td>1</td>\n",
       "      <td>2</td>\n",
       "    </tr>\n",
       "    <tr>\n",
       "      <th>4</th>\n",
       "      <td>4</td>\n",
       "      <td>geo</td>\n",
       "      <td>1</td>\n",
       "      <td>63</td>\n",
       "    </tr>\n",
       "    <tr>\n",
       "      <th>...</th>\n",
       "      <td>...</td>\n",
       "      <td>...</td>\n",
       "      <td>...</td>\n",
       "      <td>...</td>\n",
       "    </tr>\n",
       "    <tr>\n",
       "      <th>1689</th>\n",
       "      <td>1689</td>\n",
       "      <td>geo</td>\n",
       "      <td>490</td>\n",
       "      <td>244</td>\n",
       "    </tr>\n",
       "    <tr>\n",
       "      <th>1690</th>\n",
       "      <td>1690</td>\n",
       "      <td>geo</td>\n",
       "      <td>490</td>\n",
       "      <td>488</td>\n",
       "    </tr>\n",
       "    <tr>\n",
       "      <th>1691</th>\n",
       "      <td>1691</td>\n",
       "      <td>geo</td>\n",
       "      <td>491</td>\n",
       "      <td>245</td>\n",
       "    </tr>\n",
       "    <tr>\n",
       "      <th>1692</th>\n",
       "      <td>1692</td>\n",
       "      <td>geo</td>\n",
       "      <td>491</td>\n",
       "      <td>489</td>\n",
       "    </tr>\n",
       "    <tr>\n",
       "      <th>1693</th>\n",
       "      <td>1693</td>\n",
       "      <td>geo</td>\n",
       "      <td>491</td>\n",
       "      <td>490</td>\n",
       "    </tr>\n",
       "  </tbody>\n",
       "</table>\n",
       "<p>1694 rows × 4 columns</p>\n",
       "</div>"
      ],
      "text/plain": [
       "      rel_id type  origin_id  destination_id\n",
       "0          0  geo          0              70\n",
       "1          1  geo          0             246\n",
       "2          2  geo          0             252\n",
       "3          3  geo          1               2\n",
       "4          4  geo          1              63\n",
       "...      ...  ...        ...             ...\n",
       "1689    1689  geo        490             244\n",
       "1690    1690  geo        490             488\n",
       "1691    1691  geo        491             245\n",
       "1692    1692  geo        491             489\n",
       "1693    1693  geo        491             490\n",
       "\n",
       "[1694 rows x 4 columns]"
      ]
     },
     "execution_count": 29,
     "metadata": {},
     "output_type": "execute_result"
    }
   ],
   "source": [
    "rel=pd.read_csv(\"../data/sz_taxi_202006/sz_taxi_202006.rel\")\n",
    "\n",
    "rel"
   ]
  },
  {
   "cell_type": "code",
   "execution_count": 30,
   "metadata": {},
   "outputs": [
    {
     "data": {
      "text/plain": [
       "array([[0., 0., 0., ..., 0., 0., 0.],\n",
       "       [0., 0., 1., ..., 0., 0., 0.],\n",
       "       [0., 0., 0., ..., 0., 0., 0.],\n",
       "       ...,\n",
       "       [0., 0., 0., ..., 0., 0., 0.],\n",
       "       [0., 0., 0., ..., 0., 0., 0.],\n",
       "       [0., 0., 0., ..., 1., 1., 0.]])"
      ]
     },
     "execution_count": 30,
     "metadata": {},
     "output_type": "execute_result"
    },
    {
     "data": {
      "text/plain": [
       "array([[0., 0., 0., ..., 0., 0., 0.],\n",
       "       [0., 0., 1., ..., 0., 0., 0.],\n",
       "       [0., 1., 0., ..., 0., 0., 0.],\n",
       "       ...,\n",
       "       [0., 0., 0., ..., 0., 0., 1.],\n",
       "       [0., 0., 0., ..., 0., 0., 1.],\n",
       "       [0., 0., 0., ..., 1., 1., 0.]])"
      ]
     },
     "execution_count": 30,
     "metadata": {},
     "output_type": "execute_result"
    }
   ],
   "source": [
    "adj=np.zeros((492, 492))\n",
    "adj_sym=np.zeros((492, 492))\n",
    "\n",
    "for index, row in rel.iterrows():\n",
    "    u=row[\"origin_id\"]\n",
    "    v=row[\"destination_id\"]\n",
    "    adj[u][v]=1\n",
    "    \n",
    "    adj_sym[u][v]=1\n",
    "    adj_sym[v][u]=1\n",
    "    \n",
    "adj\n",
    "adj_sym"
   ]
  },
  {
   "cell_type": "code",
   "execution_count": 35,
   "metadata": {},
   "outputs": [
    {
     "data": {
      "text/plain": [
       "3"
      ]
     },
     "execution_count": 35,
     "metadata": {},
     "output_type": "execute_result"
    },
    {
     "data": {
      "text/plain": [
       "0.0"
      ]
     },
     "execution_count": 35,
     "metadata": {},
     "output_type": "execute_result"
    }
   ],
   "source": [
    "np.sum(adj[0]==1)\n",
    "adj[0][105]"
   ]
  },
  {
   "cell_type": "code",
   "execution_count": 8,
   "metadata": {},
   "outputs": [],
   "source": [
    "np.save(\"../data/sz_taxi_202006/adj_mx.npy\", adj)\n",
    "np.save(\"../data/sz_taxi_202006/adj_sym.npy\", adj_sym)"
   ]
  },
  {
   "cell_type": "markdown",
   "metadata": {},
   "source": [
    "---"
   ]
  },
  {
   "cell_type": "code",
   "execution_count": 2,
   "metadata": {},
   "outputs": [],
   "source": [
    "def softmax(x):\n",
    "    \"\"\" softmax function \"\"\"\n",
    "    \n",
    "    # assert(len(x.shape) > 1, \"dimension must be larger than 1\")\n",
    "    # print(np.max(x, axis = 1, keepdims = True)) # axis = 1, 行\n",
    "    \n",
    "    x1 = x\n",
    "    x1 -= np.max(x, axis = 1, keepdims = True) #为了稳定地计算softmax概率， 一般会减掉最大的那个元素\n",
    "    x1 = np.exp(x1) / np.sum(np.exp(x1), axis = 1, keepdims = True)\n",
    "    \n",
    "    return x1\n",
    "\n",
    "cor_matrix=np.load(\"../../DL-Traff-Graph/SZTAXI/cor_matrix.npy\", allow_pickle=True)\n",
    "OD_matrix=np.load(\"../../DL-Traff-Graph/SZTAXI/OD_matrix.npy\", allow_pickle=True)"
   ]
  },
  {
   "cell_type": "code",
   "execution_count": 5,
   "metadata": {},
   "outputs": [],
   "source": [
    "OD_matrix=OD_matrix.astype(np.float32)\n",
    "np.save(\"../../DL-Traff-Graph/SZTAXI/OD_matrix.npy\", OD_matrix)"
   ]
  },
  {
   "cell_type": "code",
   "execution_count": 21,
   "metadata": {},
   "outputs": [
    {
     "data": {
      "text/plain": [
       "array([[1.0000000e+00, 9.9820000e-14, 2.6959899e-08, ..., 8.9679931e-16,\n",
       "        4.7473732e-09, 1.4684865e-13],\n",
       "       [7.3267905e-13, 1.0000000e+00, 3.4932965e-16, ..., 3.8439717e-14,\n",
       "        9.5188590e-10, 1.0778697e-12],\n",
       "       [2.5284483e-09, 4.4634860e-18, 1.0000000e+00, ..., 1.7844089e-17,\n",
       "        8.8797606e-12, 1.3772278e-14],\n",
       "       ...,\n",
       "       [7.9176808e-17, 4.6236686e-16, 1.6798144e-17, ..., 1.0000000e+00,\n",
       "        1.3217296e-13, 1.2965006e-14],\n",
       "       [2.5933127e-09, 7.0841909e-11, 5.1721006e-11, ..., 8.1778925e-13,\n",
       "        1.0000000e+00, 8.0217944e-14],\n",
       "       [2.0325202e-03, 2.0325202e-03, 2.0325202e-03, ..., 2.0325202e-03,\n",
       "        2.0325202e-03, 1.0000000e+00]], dtype=float32)"
      ]
     },
     "execution_count": 21,
     "metadata": {},
     "output_type": "execute_result"
    }
   ],
   "source": [
    "for i in range(len(cor_matrix)):\n",
    "    cor_matrix[i, i]=0\n",
    "\n",
    "cor_matrix_sm=softmax(cor_matrix)\n",
    "\n",
    "for i in range(len(cor_matrix_sm)):\n",
    "    cor_matrix_sm[i, i]=1\n",
    "\n",
    "cor_matrix_sm"
   ]
  },
  {
   "cell_type": "code",
   "execution_count": 4,
   "metadata": {},
   "outputs": [
    {
     "data": {
      "text/plain": [
       "array([[1.660e+02, 0.000e+00, 1.000e+00, ..., 2.700e+01, 5.570e+02,\n",
       "        8.400e+01],\n",
       "       [1.600e+01, 0.000e+00, 0.000e+00, ..., 0.000e+00, 1.400e+01,\n",
       "        1.000e+00],\n",
       "       [8.000e+00, 0.000e+00, 0.000e+00, ..., 0.000e+00, 0.000e+00,\n",
       "        0.000e+00],\n",
       "       ...,\n",
       "       [2.800e+01, 0.000e+00, 0.000e+00, ..., 2.400e+01, 6.110e+02,\n",
       "        1.010e+02],\n",
       "       [5.100e+01, 0.000e+00, 0.000e+00, ..., 1.321e+03, 7.630e+02,\n",
       "        8.600e+01],\n",
       "       [2.000e+00, 0.000e+00, 0.000e+00, ..., 8.000e+00, 6.810e+02,\n",
       "        1.000e+00]], dtype=float32)"
      ]
     },
     "execution_count": 4,
     "metadata": {},
     "output_type": "execute_result"
    }
   ],
   "source": [
    "OD_matrix"
   ]
  },
  {
   "cell_type": "code",
   "execution_count": 23,
   "metadata": {},
   "outputs": [
    {
     "data": {
      "text/plain": [
       "array([[0.0000000e+00, 0.0000000e+00, 0.0000000e+00, ..., 0.0000000e+00,\n",
       "        0.0000000e+00, 0.0000000e+00],\n",
       "       [1.8003888e-35, 2.0248763e-42, 2.0248763e-42, ..., 2.0248763e-42,\n",
       "        2.4365609e-36, 5.5071030e-42],\n",
       "       [8.3151400e-07, 2.7894190e-10, 2.7894190e-10, ..., 2.7894190e-10,\n",
       "        2.7894190e-10, 2.7894190e-10],\n",
       "       ...,\n",
       "       [0.0000000e+00, 0.0000000e+00, 0.0000000e+00, ..., 0.0000000e+00,\n",
       "        0.0000000e+00, 0.0000000e+00],\n",
       "       [0.0000000e+00, 0.0000000e+00, 0.0000000e+00, ..., 0.0000000e+00,\n",
       "        0.0000000e+00, 0.0000000e+00],\n",
       "       [0.0000000e+00, 0.0000000e+00, 0.0000000e+00, ..., 0.0000000e+00,\n",
       "        1.0000000e+00, 0.0000000e+00]], dtype=float32)"
      ]
     },
     "execution_count": 23,
     "metadata": {},
     "output_type": "execute_result"
    }
   ],
   "source": [
    "OD_matrix_sm=softmax(OD_matrix)\n",
    "\n",
    "OD_matrix_sm"
   ]
  },
  {
   "cell_type": "code",
   "execution_count": 26,
   "metadata": {},
   "outputs": [],
   "source": [
    "np.save(\"../../DL-Traff-Graph/SZTAXI/cor_matrix_sm.npy\", cor_matrix_sm)\n",
    "np.save(\"../../DL-Traff-Graph/SZTAXI/OD_matrix_sm.npy\", OD_matrix_sm)"
   ]
  },
  {
   "cell_type": "markdown",
   "metadata": {},
   "source": [
    "Feature Person\n",
    "\n",
    "---"
   ]
  },
  {
   "cell_type": "code",
   "execution_count": 2,
   "metadata": {},
   "outputs": [
    {
     "data": {
      "text/plain": [
       "(8064, 492)"
      ]
     },
     "execution_count": 2,
     "metadata": {},
     "output_type": "execute_result"
    },
    {
     "data": {
      "text/plain": [
       "(8064, 492)"
      ]
     },
     "execution_count": 2,
     "metadata": {},
     "output_type": "execute_result"
    }
   ],
   "source": [
    "flow_mat=pd.read_pickle(\"../../DL-Traff-Graph/SZTAXI/SZTAXI-flow.pkl\").values.astype(np.float32)\n",
    "speed_mat=pd.read_pickle(\"../../DL-Traff-Graph/SZTAXI/SZTAXI-speed.pkl\").values.astype(np.float32)\n",
    "\n",
    "flow_mat.shape\n",
    "speed_mat.shape"
   ]
  },
  {
   "cell_type": "code",
   "execution_count": 7,
   "metadata": {},
   "outputs": [
    {
     "data": {
      "text/plain": [
       "array([[21.,  0.,  0., ...,  0., 11.,  6.],\n",
       "       [18.,  0.,  0., ...,  5., 12.,  8.],\n",
       "       [27.,  0.,  0., ..., 10., 11.,  8.],\n",
       "       ...,\n",
       "       [ 0.,  0.,  0., ...,  0.,  0.,  0.],\n",
       "       [ 0.,  0.,  0., ...,  0.,  0.,  0.],\n",
       "       [ 0.,  0.,  0., ...,  0.,  0.,  0.]], dtype=float32)"
      ]
     },
     "execution_count": 7,
     "metadata": {},
     "output_type": "execute_result"
    }
   ],
   "source": [
    "flow_mat"
   ]
  },
  {
   "cell_type": "code",
   "execution_count": 8,
   "metadata": {},
   "outputs": [
    {
     "data": {
      "text/plain": [
       "array([[41.235294, 42.      , 34.      , ..., 38.      , 38.909092,\n",
       "        45.166668],\n",
       "       [29.916666, 29.339838, 29.339838, ..., 36.5     , 38.083332,\n",
       "        42.      ],\n",
       "       [31.142857, 20.5     , 29.339838, ..., 31.666666, 41.454544,\n",
       "        41.25    ],\n",
       "       ...,\n",
       "       [29.339838, 29.339838, 29.339838, ..., 29.339838, 29.339838,\n",
       "        29.339838],\n",
       "       [29.339838, 29.339838, 29.339838, ..., 29.339838, 29.339838,\n",
       "        29.339838],\n",
       "       [29.339838, 29.339838, 29.339838, ..., 29.339838, 29.339838,\n",
       "        29.339838]], dtype=float32)"
      ]
     },
     "execution_count": 8,
     "metadata": {},
     "output_type": "execute_result"
    }
   ],
   "source": [
    "speed_mat"
   ]
  },
  {
   "cell_type": "code",
   "execution_count": 3,
   "metadata": {},
   "outputs": [
    {
     "name": "stderr",
     "output_type": "stream",
     "text": [
      "/home/cseadmin/dz/anaconda3/envs/torch1.7/lib/python3.7/site-packages/numpy/lib/function_base.py:2559: RuntimeWarning: invalid value encountered in true_divide\n",
      "  c /= stddev[:, None]\n",
      "/home/cseadmin/dz/anaconda3/envs/torch1.7/lib/python3.7/site-packages/numpy/lib/function_base.py:2560: RuntimeWarning: invalid value encountered in true_divide\n",
      "  c /= stddev[None, :]\n"
     ]
    },
    {
     "data": {
      "text/plain": [
       "(492, 492)"
      ]
     },
     "execution_count": 3,
     "metadata": {},
     "output_type": "execute_result"
    }
   ],
   "source": [
    "flow_pearson=np.corrcoef(flow_mat.T, rowvar=True)\n",
    "speed_pearson=np.corrcoef(speed_mat.T, rowvar=True)\n",
    "\n",
    "flow_pearson=np.nan_to_num(flow_pearson)\n",
    "speed_pearson=np.nan_to_num(speed_pearson)\n",
    "\n",
    "flow_pearson.shape"
   ]
  },
  {
   "cell_type": "code",
   "execution_count": 4,
   "metadata": {},
   "outputs": [],
   "source": [
    "np.save(\"../../DL-Traff-Graph/SZTAXI/flow_pearson.npy\", flow_pearson)\n",
    "np.save(\"../../DL-Traff-Graph/SZTAXI/speed_pearson.npy\", speed_pearson)"
   ]
  },
  {
   "cell_type": "markdown",
   "metadata": {},
   "source": [
    "Feature Cov\n",
    "\n",
    "---"
   ]
  },
  {
   "cell_type": "code",
   "execution_count": 5,
   "metadata": {},
   "outputs": [
    {
     "data": {
      "text/plain": [
       "(492, 492)"
      ]
     },
     "execution_count": 5,
     "metadata": {},
     "output_type": "execute_result"
    },
    {
     "data": {
      "text/plain": [
       "array([[68.88634627,  1.86080194,  2.82013712, ...,  5.03896222,\n",
       "        32.47346372, 33.14786318],\n",
       "       [ 1.86080194,  1.74884091,  0.26197988, ...,  0.24180213,\n",
       "         2.10523102,  2.13515167],\n",
       "       [ 2.82013712,  0.26197988,  2.4011883 , ...,  0.19914075,\n",
       "         2.16755162,  2.23961886],\n",
       "       ...,\n",
       "       [ 5.03896222,  0.24180213,  0.19914075, ..., 12.52190044,\n",
       "         4.77664591,  4.5409753 ],\n",
       "       [32.47346372,  2.10523102,  2.16755162, ...,  4.77664591,\n",
       "        74.64525733, 67.44690999],\n",
       "       [33.14786318,  2.13515167,  2.23961886, ...,  4.5409753 ,\n",
       "        67.44690999, 70.82041939]])"
      ]
     },
     "execution_count": 5,
     "metadata": {},
     "output_type": "execute_result"
    }
   ],
   "source": [
    "flow_cov=np.cov(flow_mat.T, rowvar=True)\n",
    "speed_cov=np.cov(speed_mat.T, rowvar=True)\n",
    "\n",
    "flow_cov.shape\n",
    "flow_cov"
   ]
  },
  {
   "cell_type": "code",
   "execution_count": 6,
   "metadata": {},
   "outputs": [],
   "source": [
    "np.save(\"../../DL-Traff-Graph/SZTAXI/flow_cov.npy\", flow_cov)\n",
    "np.save(\"../../DL-Traff-Graph/SZTAXI/speed_cov.npy\", speed_cov)"
   ]
  },
  {
   "cell_type": "markdown",
   "metadata": {},
   "source": [
    "Feature Cosine\n",
    "\n",
    "---"
   ]
  },
  {
   "cell_type": "code",
   "execution_count": 9,
   "metadata": {},
   "outputs": [],
   "source": [
    "def get_cos_similar_matrix(v1, v2):\n",
    "    num = np.dot(v1, np.array(v2).T)  # 向量点乘\n",
    "    denom = np.linalg.norm(v1, axis=1).reshape(-1, 1) * np.linalg.norm(v2, axis=1)  # 求模长的乘积\n",
    "    res = num / denom\n",
    "    res[np.isneginf(res)] = 0\n",
    "    return 0.5 + 0.5 * res"
   ]
  },
  {
   "cell_type": "code",
   "execution_count": 10,
   "metadata": {},
   "outputs": [
    {
     "name": "stderr",
     "output_type": "stream",
     "text": [
      "/home/cseadmin/dz/anaconda3/envs/torch1.7/lib/python3.7/site-packages/ipykernel_launcher.py:4: RuntimeWarning: invalid value encountered in true_divide\n",
      "  after removing the cwd from sys.path.\n"
     ]
    },
    {
     "data": {
      "text/plain": [
       "(492, 492)"
      ]
     },
     "execution_count": 10,
     "metadata": {},
     "output_type": "execute_result"
    },
    {
     "data": {
      "text/plain": [
       "array([[1.        , 0.63321173, 0.6621315 , ..., 0.8349408 , 0.9434126 ,\n",
       "        0.9400189 ],\n",
       "       [0.63321173, 1.        , 0.58899283, ..., 0.5925163 , 0.63988054,\n",
       "        0.64256835],\n",
       "       [0.6621315 , 0.58899283, 1.        , ..., 0.6014187 , 0.6528029 ,\n",
       "        0.655298  ],\n",
       "       ...,\n",
       "       [0.8349408 , 0.5925163 , 0.6014187 , ..., 1.        , 0.82083976,\n",
       "        0.8158041 ],\n",
       "       [0.9434126 , 0.63988054, 0.6528029 , ..., 0.82083976, 1.        ,\n",
       "        0.9901964 ],\n",
       "       [0.9400189 , 0.64256835, 0.655298  , ..., 0.8158041 , 0.9901964 ,\n",
       "        1.        ]], dtype=float32)"
      ]
     },
     "execution_count": 10,
     "metadata": {},
     "output_type": "execute_result"
    },
    {
     "data": {
      "text/plain": [
       "array([[0.9999989 , 0.9784517 , 0.97766286, ..., 0.9891083 , 0.9898609 ,\n",
       "        0.99092036],\n",
       "       [0.9784517 , 0.9999896 , 0.966593  , ..., 0.9759396 , 0.97659755,\n",
       "        0.9775419 ],\n",
       "       [0.97766286, 0.966593  , 0.99999523, ..., 0.975599  , 0.97720474,\n",
       "        0.97752976],\n",
       "       ...,\n",
       "       [0.9891083 , 0.9759396 , 0.975599  , ..., 1.0000013 , 0.9880032 ,\n",
       "        0.98949635],\n",
       "       [0.9898609 , 0.97659755, 0.97720474, ..., 0.9880032 , 1.0000007 ,\n",
       "        0.9980149 ],\n",
       "       [0.99092036, 0.9775419 , 0.97752976, ..., 0.98949635, 0.9980149 ,\n",
       "        1.000001  ]], dtype=float32)"
      ]
     },
     "execution_count": 10,
     "metadata": {},
     "output_type": "execute_result"
    }
   ],
   "source": [
    "flow_cosine=get_cos_similar_matrix(flow_mat.T, flow_mat.T)\n",
    "speed_cosine=get_cos_similar_matrix(speed_mat.T, speed_mat.T)\n",
    "\n",
    "flow_cosine=np.nan_to_num(flow_cosine)\n",
    "speed_cosine=np.nan_to_num(speed_cosine)\n",
    "\n",
    "flow_cosine.shape\n",
    "flow_cosine\n",
    "speed_cosine"
   ]
  },
  {
   "cell_type": "code",
   "execution_count": 11,
   "metadata": {},
   "outputs": [],
   "source": [
    "np.save(\"../../DL-Traff-Graph/SZTAXI/flow_cosine.npy\", flow_cosine)\n",
    "np.save(\"../../DL-Traff-Graph/SZTAXI/speed_cosine.npy\", speed_cosine)"
   ]
  },
  {
   "cell_type": "markdown",
   "metadata": {},
   "source": [
    "Feature DTW\n",
    "\n",
    "---"
   ]
  },
  {
   "cell_type": "code",
   "execution_count": 13,
   "metadata": {},
   "outputs": [
    {
     "data": {
      "text/plain": [
       "array([[     0.        ,  54497.34051108,  57320.01793623, ...,\n",
       "         35878.12430239,  66807.69944668,  71687.07831573],\n",
       "       [ 52276.80829597,      0.        ,  49653.66195893, ...,\n",
       "         57726.71536088,  91890.21368194,  97642.92257857],\n",
       "       [ 58072.0928874 ,  50012.60881257,      0.        , ...,\n",
       "         66273.06735754,  95592.54577875, 113863.69368029],\n",
       "       ...,\n",
       "       [ 36309.2448926 ,  60729.9672873 ,  64875.01386309, ...,\n",
       "             0.        ,  71183.55299807,  76568.64624834],\n",
       "       [ 64173.25999737,  94739.09312892,  99816.87948847, ...,\n",
       "         71686.3544383 ,      0.        ,  28235.60124302],\n",
       "       [ 73386.24558544,  99918.05470157, 115379.45998907, ...,\n",
       "         77134.22741175,  28025.10507584,      0.        ]])"
      ]
     },
     "execution_count": 13,
     "metadata": {},
     "output_type": "execute_result"
    }
   ],
   "source": [
    "from fastdtw import fastdtw\n",
    "\n",
    "flow_DTW=np.zeros((492, 492))\n",
    "speed_DTW=np.zeros((492, 492))\n",
    "\n",
    "for i in range(492):\n",
    "    for j in range(492):\n",
    "        flow_DTW[i, j]=fastdtw(flow_mat[:, i], flow_mat[:, j])[0]\n",
    "        speed_DTW[i, j]=fastdtw(speed_mat[:, i], speed_mat[:, j])[0]\n",
    "        \n",
    "speed_DTW"
   ]
  },
  {
   "cell_type": "code",
   "execution_count": 19,
   "metadata": {},
   "outputs": [],
   "source": [
    "for i in range(492):\n",
    "    speed_DTW[i, i]=0"
   ]
  },
  {
   "cell_type": "code",
   "execution_count": 32,
   "metadata": {},
   "outputs": [
    {
     "data": {
      "text/plain": [
       "array([[    0. ,  5449.7,  5732. , ...,  3587.8,  6680.8,  7168.7],\n",
       "       [ 5227.7,     0. ,  4965.4, ...,  5772.7,  9189. ,  9764.3],\n",
       "       [ 5807.2,  5001.3,     0. , ...,  6627.3,  9559.3, 11386.4],\n",
       "       ...,\n",
       "       [ 3630.9,  6073. ,  6487.5, ...,     0. ,  7118.4,  7656.9],\n",
       "       [ 6417.3,  9473.9,  9981.7, ...,  7168.6,     0. ,  2823.6],\n",
       "       [ 7338.6,  9991.8, 11537.9, ...,  7713.4,  2802.5,     0. ]])"
      ]
     },
     "execution_count": 32,
     "metadata": {},
     "output_type": "execute_result"
    }
   ],
   "source": [
    "speed_DTW_new=speed_DTW\n",
    "speed_DTW_new=np.round(speed_DTW_new)\n",
    "speed_DTW_new/=10\n",
    "\n",
    "speed_DTW_new"
   ]
  },
  {
   "cell_type": "code",
   "execution_count": 33,
   "metadata": {},
   "outputs": [],
   "source": [
    "# np.save(\"../../DL-Traff-Graph/SZTAXI/flow_DTW.npy\", flow_DTW)\n",
    "np.save(\"../../DL-Traff-Graph/SZTAXI/speed_DTW.npy\", speed_DTW_new)"
   ]
  },
  {
   "cell_type": "markdown",
   "metadata": {},
   "source": [
    "---"
   ]
  },
  {
   "cell_type": "code",
   "execution_count": 4,
   "metadata": {},
   "outputs": [
    {
     "name": "stdout",
     "output_type": "stream",
     "text": [
      "[[1.         0.16953463 0.21927572 ... 0.17156923 0.45285684 0.47458031]\n",
      " [0.16953463 1.         0.1278438  ... 0.05167135 0.18425679 0.19185553]\n",
      " [0.21927572 0.1278438  1.         ... 0.03631716 0.16190312 0.17174407]\n",
      " ...\n",
      " [0.17156923 0.05167135 0.03631716 ... 1.         0.15623805 0.15248768]\n",
      " [0.45285684 0.18425679 0.16190312 ... 0.15623805 1.         0.92764477]\n",
      " [0.47458031 0.19185553 0.17174407 ... 0.15248768 0.92764477 1.        ]]\n",
      "---\n",
      "[[1.         0.63321173 0.6621315  ... 0.8349408  0.9434126  0.9400189 ]\n",
      " [0.63321173 1.         0.58899283 ... 0.5925163  0.63988054 0.64256835]\n",
      " [0.6621315  0.58899283 1.         ... 0.6014187  0.6528029  0.655298  ]\n",
      " ...\n",
      " [0.8349408  0.5925163  0.6014187  ... 1.         0.82083976 0.8158041 ]\n",
      " [0.9434126  0.63988054 0.6528029  ... 0.82083976 1.         0.9901964 ]\n",
      " [0.9400189  0.64256835 0.655298   ... 0.8158041  0.9901964  1.        ]]\n"
     ]
    }
   ],
   "source": [
    "print(np.load(\"../../DL-Traff-Graph/SZTAXI/flow_pearson.npy\"))\n",
    "print(\"---\")\n",
    "print(np.load(\"../../DL-Traff-Graph/SZTAXI/flow_cosine.npy\"))"
   ]
  }
 ],
 "metadata": {
  "interpreter": {
   "hash": "6c06479978a9afb049dacef30f4b37fb04e7a2dfd65fe1755a86e45fec2f65ba"
  },
  "kernelspec": {
   "display_name": "Python 3.7.11 ('torch1.7')",
   "language": "python",
   "name": "python3"
  },
  "language_info": {
   "codemirror_mode": {
    "name": "ipython",
    "version": 3
   },
   "file_extension": ".py",
   "mimetype": "text/x-python",
   "name": "python",
   "nbconvert_exporter": "python",
   "pygments_lexer": "ipython3",
   "version": "3.7.11"
  },
  "orig_nbformat": 4
 },
 "nbformat": 4,
 "nbformat_minor": 2
}
